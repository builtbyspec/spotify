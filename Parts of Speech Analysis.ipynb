{
 "cells": [
  {
   "cell_type": "markdown",
   "metadata": {},
   "source": [
    "New Change (Feb 15 2019): Download multiprocessing to run new spotfuncs `get_lyrics()`\n",
    "\n",
    "Open Terminal\n",
    "\n",
    "`pip install multiprocess`\n",
    "\n",
    "https://pypi.org/project/multiprocess/"
   ]
  },
  {
   "cell_type": "code",
   "execution_count": 1,
   "metadata": {},
   "outputs": [],
   "source": [
    "import spotipy\n",
    "spotify = spotipy.Spotify()\n",
    "import sys\n",
    "import pandas as pd\n",
    "from spotipy.oauth2 import SpotifyClientCredentials\n",
    "from bs4 import BeautifulSoup\n",
    "import lxml\n",
    "import spotfuncs \n",
    "import requests\n",
    "import pandas as pd\n",
    "import numpy as np\n",
    "from multiprocessing import Pool"
   ]
  },
  {
   "cell_type": "code",
   "execution_count": 2,
   "metadata": {},
   "outputs": [],
   "source": [
    "import nltk\n",
    "from nltk.tokenize import TweetTokenizer"
   ]
  },
  {
   "cell_type": "code",
   "execution_count": 3,
   "metadata": {},
   "outputs": [],
   "source": [
    "filepath = \"/Users/ajaypatel21/genius.txt\""
   ]
  },
  {
   "cell_type": "code",
   "execution_count": 15,
   "metadata": {},
   "outputs": [],
   "source": [
    "artist_id = spotfuncs.search_genius(\"Travis Scott\", credentials_file=filepath)\n",
    "genius_songs = spotfuncs.get_songs(artist_id, credentials_file=filepath)"
   ]
  },
  {
   "cell_type": "code",
   "execution_count": 16,
   "metadata": {},
   "outputs": [
    {
     "ename": "TypeError",
     "evalue": "list indices must be integers or slices, not str",
     "output_type": "error",
     "traceback": [
      "\u001b[0;31m---------------------------------------------------------------------------\u001b[0m",
      "\u001b[0;31mTypeError\u001b[0m                                 Traceback (most recent call last)",
      "\u001b[0;32m<ipython-input-16-54bee6cb48cd>\u001b[0m in \u001b[0;36m<module>\u001b[0;34m\u001b[0m\n\u001b[0;32m----> 1\u001b[0;31m \u001b[0mgenius_songs\u001b[0m\u001b[0;34m[\u001b[0m\u001b[0;34m\"90210\"\u001b[0m\u001b[0;34m]\u001b[0m\u001b[0;34m\u001b[0m\u001b[0;34m\u001b[0m\u001b[0m\n\u001b[0m",
      "\u001b[0;31mTypeError\u001b[0m: list indices must be integers or slices, not str"
     ]
    }
   ],
   "source": [
    "genius_songs[\"90210\"]"
   ]
  },
  {
   "cell_type": "code",
   "execution_count": 6,
   "metadata": {},
   "outputs": [],
   "source": [
    "#name = \"SICKO MODE\"\n",
    "#url = genius_songs[\"SICKO MODE\"][1]\n",
    "\n",
    "#lyrics = spotfuncs.get_lyrics(url)\n",
    "\n",
    "#print(name, '\\n')\n",
    "#print(lyrics)"
   ]
  },
  {
   "cell_type": "code",
   "execution_count": 7,
   "metadata": {},
   "outputs": [],
   "source": [
    "#travis_scott = pd.DataFrame([i for i in genius_songs.keys()],columns=[\"pos\"])\n",
    "#travis_scott.head()"
   ]
  },
  {
   "cell_type": "markdown",
   "metadata": {},
   "source": [
    "New Change (Feb 15 2019): Used multiprocessing to make scraping lyrics much faster.\n",
    "\n",
    "- spotfuncs.get_lyrics(`genius_songs`) will return a list of lyrics for every song in the dict\n",
    "- spotfuncs.get_lyrics(`url`) will return the lyrics for any url of a genius song you get"
   ]
  },
  {
   "cell_type": "code",
   "execution_count": 8,
   "metadata": {},
   "outputs": [],
   "source": [
    "#travis_scott[\"lyrics\"] = spotfuncs.get_lyrics(genius_songs)"
   ]
  },
  {
   "cell_type": "code",
   "execution_count": 9,
   "metadata": {},
   "outputs": [],
   "source": [
    "#travis_scott.head()"
   ]
  },
  {
   "cell_type": "code",
   "execution_count": 10,
   "metadata": {},
   "outputs": [],
   "source": [
    "#spotfuncs.get_lyrics(\"https://genius.com/Partynextdoor-tbh-lyrics\")"
   ]
  },
  {
   "cell_type": "code",
   "execution_count": 11,
   "metadata": {},
   "outputs": [],
   "source": [
    "def my_big_function(artist):\n",
    "    import nltk\n",
    "    from nltk.tokenize import sent_tokenize, word_tokenize\n",
    "    from nltk.corpus import stopwords\n",
    "    from nltk.tokenize import PunktSentenceTokenizer\n",
    "    \n",
    "    artist_id = spotfuncs.search_genius(artist, credentials_file=filepath)\n",
    "    genius_songs = spotfuncs.get_songs(artist_id, credentials_file=filepath)\n",
    "    df = pd.DataFrame([i for i in genius_songs.keys()],columns=[\"pos\"])\n",
    "    df[\"lyrics\"] = spotfuncs.get_lyrics(genius_songs)\n",
    "    \n",
    "    noun_list = []\n",
    "    verb_list = []\n",
    "    preposition_list = []\n",
    "    adjective_list = []\n",
    "\n",
    "    for i in df.lyrics:\n",
    "        sentences = nltk.sent_tokenize(i)\n",
    "        data = []\n",
    "        for sent in sentences:\n",
    "            data = data + nltk.pos_tag(nltk.word_tokenize(sent))\n",
    "\n",
    "        noun_count = 0\n",
    "        verb_count = 0\n",
    "        preposition_count = 0\n",
    "        adjective_count = 0\n",
    "        for word in data: \n",
    "            if 'NN' in word[1]: \n",
    "                noun_count += 1\n",
    "            elif 'NNS' in word[1]:\n",
    "                noun_count += 1\n",
    "            elif 'NNP' in word[1]:\n",
    "                noun_count += 1\n",
    "            elif 'NNPS' in word[1]:\n",
    "                noun_count += 1     \n",
    "            elif 'IN' in word[1]:\n",
    "                preposition_count += 1\n",
    "            elif 'JJ' in word[1]:\n",
    "                adjective_count += 1\n",
    "            elif 'JJR' in word[1]:\n",
    "                adjective_count += 1\n",
    "            elif 'JJS' in word[1]:\n",
    "                adjective_count += 1\n",
    "            elif 'VB' in word[1]:\n",
    "                verb_count += 1\n",
    "            elif 'VBD' in word[1]:\n",
    "                verb_count += 1\n",
    "            elif 'VBG' in word[1]:\n",
    "                verb_count += 1\n",
    "            elif 'VBN' in word[1]:\n",
    "                verb_count += 1\n",
    "            elif 'VBP' in word[1]:\n",
    "                verb_count += 1\n",
    "            elif 'VBZ' in word[1]:\n",
    "                verb_count += 1    \n",
    "\n",
    "        noun_list.append(noun_count)  \n",
    "        verb_list.append(verb_count)\n",
    "        preposition_list.append(preposition_count)\n",
    "        adjective_list.append(adjective_count)\n",
    "\n",
    "    my_dict = {\"Noun\": noun_list, \n",
    "                \"Verb\": verb_list, \n",
    "                \"Adjective\": adjective_list, \n",
    "                \"Preposition\": preposition_list}\n",
    "    \n",
    "    other_df = pd.DataFrame(my_dict1, columns=[\"Noun\", \"Verb\", \"Adjective\", \"Preposition\"])\n",
    "    \n",
    "    df = df.join(other_df)\n",
    "    df[\"artist\"] = artist\n",
    "    \n",
    "    return df"
   ]
  },
  {
   "cell_type": "code",
   "execution_count": 12,
   "metadata": {},
   "outputs": [
    {
     "ename": "AttributeError",
     "evalue": "'list' object has no attribute 'keys'",
     "output_type": "error",
     "traceback": [
      "\u001b[0;31m---------------------------------------------------------------------------\u001b[0m",
      "\u001b[0;31mAttributeError\u001b[0m                            Traceback (most recent call last)",
      "\u001b[0;32m<ipython-input-12-6b1c07753a83>\u001b[0m in \u001b[0;36m<module>\u001b[0;34m\u001b[0m\n\u001b[0;32m----> 1\u001b[0;31m \u001b[0mdrake\u001b[0m \u001b[0;34m=\u001b[0m \u001b[0mmy_big_function\u001b[0m\u001b[0;34m(\u001b[0m\u001b[0;34m\"Drake\"\u001b[0m\u001b[0;34m)\u001b[0m\u001b[0;34m\u001b[0m\u001b[0;34m\u001b[0m\u001b[0m\n\u001b[0m\u001b[1;32m      2\u001b[0m \u001b[0mpost_malone\u001b[0m \u001b[0;34m=\u001b[0m \u001b[0mmy_big_function\u001b[0m\u001b[0;34m(\u001b[0m\u001b[0;34m\"Post Malone\"\u001b[0m\u001b[0;34m)\u001b[0m\u001b[0;34m\u001b[0m\u001b[0;34m\u001b[0m\u001b[0m\n\u001b[1;32m      3\u001b[0m \u001b[0mxxxtentaction\u001b[0m \u001b[0;34m=\u001b[0m \u001b[0mmy_big_function\u001b[0m\u001b[0;34m(\u001b[0m\u001b[0;34m\"XXXTENTACION\"\u001b[0m\u001b[0;34m)\u001b[0m\u001b[0;34m\u001b[0m\u001b[0;34m\u001b[0m\u001b[0m\n\u001b[1;32m      4\u001b[0m \u001b[0mj_balvin\u001b[0m \u001b[0;34m=\u001b[0m \u001b[0mmy_big_function\u001b[0m\u001b[0;34m(\u001b[0m\u001b[0;34m\"J Balvin\"\u001b[0m\u001b[0;34m)\u001b[0m\u001b[0;34m\u001b[0m\u001b[0;34m\u001b[0m\u001b[0m\n\u001b[1;32m      5\u001b[0m \u001b[0med_sheeran\u001b[0m \u001b[0;34m=\u001b[0m \u001b[0mmy_big_function\u001b[0m\u001b[0;34m(\u001b[0m\u001b[0;34m\"Ed Sheeran\"\u001b[0m\u001b[0;34m)\u001b[0m\u001b[0;34m\u001b[0m\u001b[0;34m\u001b[0m\u001b[0m\n",
      "\u001b[0;32m<ipython-input-11-602d43698dc8>\u001b[0m in \u001b[0;36mmy_big_function\u001b[0;34m(artist)\u001b[0m\n\u001b[1;32m      7\u001b[0m     \u001b[0martist_id\u001b[0m \u001b[0;34m=\u001b[0m \u001b[0mspotfuncs\u001b[0m\u001b[0;34m.\u001b[0m\u001b[0msearch_genius\u001b[0m\u001b[0;34m(\u001b[0m\u001b[0martist\u001b[0m\u001b[0;34m,\u001b[0m \u001b[0mcredentials_file\u001b[0m\u001b[0;34m=\u001b[0m\u001b[0mfilepath\u001b[0m\u001b[0;34m)\u001b[0m\u001b[0;34m\u001b[0m\u001b[0;34m\u001b[0m\u001b[0m\n\u001b[1;32m      8\u001b[0m     \u001b[0mgenius_songs\u001b[0m \u001b[0;34m=\u001b[0m \u001b[0mspotfuncs\u001b[0m\u001b[0;34m.\u001b[0m\u001b[0mget_songs\u001b[0m\u001b[0;34m(\u001b[0m\u001b[0martist_id\u001b[0m\u001b[0;34m,\u001b[0m \u001b[0mcredentials_file\u001b[0m\u001b[0;34m=\u001b[0m\u001b[0mfilepath\u001b[0m\u001b[0;34m)\u001b[0m\u001b[0;34m\u001b[0m\u001b[0;34m\u001b[0m\u001b[0m\n\u001b[0;32m----> 9\u001b[0;31m     \u001b[0mdf\u001b[0m \u001b[0;34m=\u001b[0m \u001b[0mpd\u001b[0m\u001b[0;34m.\u001b[0m\u001b[0mDataFrame\u001b[0m\u001b[0;34m(\u001b[0m\u001b[0;34m[\u001b[0m\u001b[0mi\u001b[0m \u001b[0;32mfor\u001b[0m \u001b[0mi\u001b[0m \u001b[0;32min\u001b[0m \u001b[0mgenius_songs\u001b[0m\u001b[0;34m.\u001b[0m\u001b[0mkeys\u001b[0m\u001b[0;34m(\u001b[0m\u001b[0;34m)\u001b[0m\u001b[0;34m]\u001b[0m\u001b[0;34m,\u001b[0m\u001b[0mcolumns\u001b[0m\u001b[0;34m=\u001b[0m\u001b[0;34m[\u001b[0m\u001b[0;34m\"pos\"\u001b[0m\u001b[0;34m]\u001b[0m\u001b[0;34m)\u001b[0m\u001b[0;34m\u001b[0m\u001b[0;34m\u001b[0m\u001b[0m\n\u001b[0m\u001b[1;32m     10\u001b[0m     \u001b[0mdf\u001b[0m\u001b[0;34m[\u001b[0m\u001b[0;34m\"lyrics\"\u001b[0m\u001b[0;34m]\u001b[0m \u001b[0;34m=\u001b[0m \u001b[0mspotfuncs\u001b[0m\u001b[0;34m.\u001b[0m\u001b[0mget_lyrics\u001b[0m\u001b[0;34m(\u001b[0m\u001b[0mgenius_songs\u001b[0m\u001b[0;34m)\u001b[0m\u001b[0;34m\u001b[0m\u001b[0;34m\u001b[0m\u001b[0m\n\u001b[1;32m     11\u001b[0m \u001b[0;34m\u001b[0m\u001b[0m\n",
      "\u001b[0;31mAttributeError\u001b[0m: 'list' object has no attribute 'keys'"
     ]
    }
   ],
   "source": [
    "drake = my_big_function(\"Drake\")\n",
    "post_malone = my_big_function(\"Post Malone\")\n",
    "xxxtentaction = my_big_function(\"XXXTENTACION\")\n",
    "j_balvin = my_big_function(\"J Balvin\")\n",
    "ed_sheeran = my_big_function(\"Ed Sheeran\")"
   ]
  },
  {
   "cell_type": "code",
   "execution_count": null,
   "metadata": {},
   "outputs": [],
   "source": [
    "top5 = drake.append(post_malone)\n",
    "top5 = top5.append(xxxtentaction)\n",
    "top5 = top5.append(j_balvin)\n",
    "top5 = top5.append(ed_sheeran)"
   ]
  },
  {
   "cell_type": "code",
   "execution_count": null,
   "metadata": {},
   "outputs": [],
   "source": [
    "top5.groupby([\"artist\"]).Noun.plot.hist(legend=True, alpha=.2)"
   ]
  },
  {
   "cell_type": "code",
   "execution_count": null,
   "metadata": {},
   "outputs": [],
   "source": [
    "top5.groupby([\"artist\"]).Verb.plot.hist(legend=True, alpha=.2)"
   ]
  },
  {
   "cell_type": "code",
   "execution_count": null,
   "metadata": {},
   "outputs": [],
   "source": [
    "top5.groupby([\"artist\"]).Preposition.plot.hist(legend=True, alpha=.2)"
   ]
  },
  {
   "cell_type": "code",
   "execution_count": null,
   "metadata": {},
   "outputs": [],
   "source": [
    "top5.groupby([\"artist\"]).Adjective.plot.hist(legend=True, alpha=.2)"
   ]
  },
  {
   "cell_type": "code",
   "execution_count": null,
   "metadata": {},
   "outputs": [],
   "source": []
  },
  {
   "cell_type": "code",
   "execution_count": null,
   "metadata": {},
   "outputs": [],
   "source": []
  },
  {
   "cell_type": "code",
   "execution_count": null,
   "metadata": {},
   "outputs": [],
   "source": []
  },
  {
   "cell_type": "code",
   "execution_count": null,
   "metadata": {},
   "outputs": [],
   "source": []
  }
 ],
 "metadata": {
  "kernelspec": {
   "display_name": "Python 3",
   "language": "python",
   "name": "python3"
  },
  "language_info": {
   "codemirror_mode": {
    "name": "ipython",
    "version": 3
   },
   "file_extension": ".py",
   "mimetype": "text/x-python",
   "name": "python",
   "nbconvert_exporter": "python",
   "pygments_lexer": "ipython3",
   "version": "3.7.1"
  }
 },
 "nbformat": 4,
 "nbformat_minor": 2
}
