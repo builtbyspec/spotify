{
 "cells": [
  {
   "cell_type": "code",
   "execution_count": 50,
   "metadata": {},
   "outputs": [],
   "source": [
    "import spotipy\n",
    "spotify = spotipy.Spotify()\n",
    "import sys\n",
    "import pandas as pd\n",
    "from spotipy.oauth2 import SpotifyClientCredentials\n",
    "from bs4 import BeautifulSoup\n",
    "import requests\n",
    "import lxml\n",
    "import spotfuncs \n",
    "%matplotlib inline\n",
    "\n",
    "filepath = \"C:/Users/epmmo/Documents/Spec/credentials.txt\"\n",
    "\n",
    "playlists = [\"New Music Friday\"]\n",
    "\n",
    "for i in playlists:\n",
    "    df = spotfuncs.get_spotify_playlist_data(playlist=i, credentials_file=filepath)\n",
    "    df.to_csv(\"{0}.csv\".format(i.replace(\" \",\"_\")))"
   ]
  },
  {
   "cell_type": "code",
   "execution_count": 18,
   "metadata": {},
   "outputs": [
    {
     "data": {
      "text/html": [
       "<div>\n",
       "<style scoped>\n",
       "    .dataframe tbody tr th:only-of-type {\n",
       "        vertical-align: middle;\n",
       "    }\n",
       "\n",
       "    .dataframe tbody tr th {\n",
       "        vertical-align: top;\n",
       "    }\n",
       "\n",
       "    .dataframe thead th {\n",
       "        text-align: right;\n",
       "    }\n",
       "</style>\n",
       "<table border=\"1\" class=\"dataframe\">\n",
       "  <thead>\n",
       "    <tr style=\"text-align: right;\">\n",
       "      <th></th>\n",
       "      <th>album</th>\n",
       "      <th>artists</th>\n",
       "      <th>duration_ms</th>\n",
       "      <th>episode</th>\n",
       "      <th>explicit</th>\n",
       "      <th>href</th>\n",
       "      <th>id</th>\n",
       "      <th>is_local</th>\n",
       "      <th>name</th>\n",
       "      <th>popularity</th>\n",
       "      <th>...</th>\n",
       "      <th>instrumentalness</th>\n",
       "      <th>key</th>\n",
       "      <th>liveness</th>\n",
       "      <th>loudness</th>\n",
       "      <th>mode</th>\n",
       "      <th>speechiness</th>\n",
       "      <th>tempo</th>\n",
       "      <th>time_signature</th>\n",
       "      <th>track_href</th>\n",
       "      <th>valence</th>\n",
       "    </tr>\n",
       "    <tr>\n",
       "      <th>track_name</th>\n",
       "      <th></th>\n",
       "      <th></th>\n",
       "      <th></th>\n",
       "      <th></th>\n",
       "      <th></th>\n",
       "      <th></th>\n",
       "      <th></th>\n",
       "      <th></th>\n",
       "      <th></th>\n",
       "      <th></th>\n",
       "      <th></th>\n",
       "      <th></th>\n",
       "      <th></th>\n",
       "      <th></th>\n",
       "      <th></th>\n",
       "      <th></th>\n",
       "      <th></th>\n",
       "      <th></th>\n",
       "      <th></th>\n",
       "      <th></th>\n",
       "      <th></th>\n",
       "    </tr>\n",
       "  </thead>\n",
       "  <tbody>\n",
       "    <tr>\n",
       "      <th>Talk</th>\n",
       "      <td>Talk</td>\n",
       "      <td>Khalid, Disclosure</td>\n",
       "      <td>197487</td>\n",
       "      <td>False</td>\n",
       "      <td>False</td>\n",
       "      <td>https://api.spotify.com/v1/tracks/0rTV5WefWd1J...</td>\n",
       "      <td>0rTV5WefWd1J3OwIheTzxM</td>\n",
       "      <td>False</td>\n",
       "      <td>Talk</td>\n",
       "      <td>0</td>\n",
       "      <td>...</td>\n",
       "      <td>0</td>\n",
       "      <td>0</td>\n",
       "      <td>0.0876</td>\n",
       "      <td>-8.443</td>\n",
       "      <td>1</td>\n",
       "      <td>0.124</td>\n",
       "      <td>136.001</td>\n",
       "      <td>4</td>\n",
       "      <td>https://api.spotify.com/v1/tracks/0rTV5WefWd1J...</td>\n",
       "      <td>0.338</td>\n",
       "    </tr>\n",
       "    <tr>\n",
       "      <th>break up with your girlfriend, i'm bored</th>\n",
       "      <td>thank u, next</td>\n",
       "      <td>Ariana Grande</td>\n",
       "      <td>190440</td>\n",
       "      <td>False</td>\n",
       "      <td>True</td>\n",
       "      <td>https://api.spotify.com/v1/tracks/4kV4N9D1iKVx...</td>\n",
       "      <td>4kV4N9D1iKVxx1KLvtTpjS</td>\n",
       "      <td>False</td>\n",
       "      <td>break up with your girlfriend, i'm bored</td>\n",
       "      <td>0</td>\n",
       "      <td>...</td>\n",
       "      <td>0</td>\n",
       "      <td>5</td>\n",
       "      <td>0.108</td>\n",
       "      <td>-5.489</td>\n",
       "      <td>0</td>\n",
       "      <td>0.102</td>\n",
       "      <td>169.991</td>\n",
       "      <td>4</td>\n",
       "      <td>https://api.spotify.com/v1/tracks/4kV4N9D1iKVx...</td>\n",
       "      <td>0.348</td>\n",
       "    </tr>\n",
       "    <tr>\n",
       "      <th>bad idea</th>\n",
       "      <td>thank u, next</td>\n",
       "      <td>Ariana Grande</td>\n",
       "      <td>267106</td>\n",
       "      <td>False</td>\n",
       "      <td>False</td>\n",
       "      <td>https://api.spotify.com/v1/tracks/5Il6Oe7lr5XM...</td>\n",
       "      <td>5Il6Oe7lr5XM7A0cWbVQtr</td>\n",
       "      <td>False</td>\n",
       "      <td>bad idea</td>\n",
       "      <td>0</td>\n",
       "      <td>...</td>\n",
       "      <td>0.0477</td>\n",
       "      <td>1</td>\n",
       "      <td>0.116</td>\n",
       "      <td>-5.35</td>\n",
       "      <td>1</td>\n",
       "      <td>0.0651</td>\n",
       "      <td>138.024</td>\n",
       "      <td>4</td>\n",
       "      <td>https://api.spotify.com/v1/tracks/5Il6Oe7lr5XM...</td>\n",
       "      <td>0.568</td>\n",
       "    </tr>\n",
       "    <tr>\n",
       "      <th>Who Do You Love (with 5 Seconds of Summer)</th>\n",
       "      <td>Who Do You Love (with 5 Seconds of Summer)</td>\n",
       "      <td>The Chainsmokers, 5 Seconds of Summer</td>\n",
       "      <td>226746</td>\n",
       "      <td>False</td>\n",
       "      <td>True</td>\n",
       "      <td>https://api.spotify.com/v1/tracks/11cDEev79fPK...</td>\n",
       "      <td>11cDEev79fPKi6uJCjUhu8</td>\n",
       "      <td>False</td>\n",
       "      <td>Who Do You Love (with 5 Seconds of Summer)</td>\n",
       "      <td>0</td>\n",
       "      <td>...</td>\n",
       "      <td>0</td>\n",
       "      <td>3</td>\n",
       "      <td>0.219</td>\n",
       "      <td>-4.673</td>\n",
       "      <td>1</td>\n",
       "      <td>0.0447</td>\n",
       "      <td>140.024</td>\n",
       "      <td>4</td>\n",
       "      <td>https://api.spotify.com/v1/tracks/11cDEev79fPK...</td>\n",
       "      <td>0.435</td>\n",
       "    </tr>\n",
       "    <tr>\n",
       "      <th>BLACKJACK (feat. YBN Cordae) - Remix</th>\n",
       "      <td>BLACKJACK (Remix)</td>\n",
       "      <td>Aminé, YBN Cordae</td>\n",
       "      <td>163120</td>\n",
       "      <td>False</td>\n",
       "      <td>True</td>\n",
       "      <td>https://api.spotify.com/v1/tracks/59VNspSnCfoe...</td>\n",
       "      <td>59VNspSnCfoeGyNTGcSgsh</td>\n",
       "      <td>False</td>\n",
       "      <td>BLACKJACK (feat. YBN Cordae) - Remix</td>\n",
       "      <td>0</td>\n",
       "      <td>...</td>\n",
       "      <td>0</td>\n",
       "      <td>2</td>\n",
       "      <td>0.0581</td>\n",
       "      <td>-6.284</td>\n",
       "      <td>1</td>\n",
       "      <td>0.278</td>\n",
       "      <td>130.977</td>\n",
       "      <td>4</td>\n",
       "      <td>https://api.spotify.com/v1/tracks/59VNspSnCfoe...</td>\n",
       "      <td>0.891</td>\n",
       "    </tr>\n",
       "  </tbody>\n",
       "</table>\n",
       "<p>5 rows × 29 columns</p>\n",
       "</div>"
      ],
      "text/plain": [
       "                                                                                 album  \\\n",
       "track_name                                                                               \n",
       "Talk                                                                              Talk   \n",
       "break up with your girlfriend, i'm bored                                 thank u, next   \n",
       "bad idea                                                                 thank u, next   \n",
       "Who Do You Love (with 5 Seconds of Summer)  Who Do You Love (with 5 Seconds of Summer)   \n",
       "BLACKJACK (feat. YBN Cordae) - Remix                                 BLACKJACK (Remix)   \n",
       "\n",
       "                                                                          artists  \\\n",
       "track_name                                                                          \n",
       "Talk                                                           Khalid, Disclosure   \n",
       "break up with your girlfriend, i'm bored                            Ariana Grande   \n",
       "bad idea                                                            Ariana Grande   \n",
       "Who Do You Love (with 5 Seconds of Summer)  The Chainsmokers, 5 Seconds of Summer   \n",
       "BLACKJACK (feat. YBN Cordae) - Remix                            Aminé, YBN Cordae   \n",
       "\n",
       "                                           duration_ms episode explicit  \\\n",
       "track_name                                                                \n",
       "Talk                                            197487   False    False   \n",
       "break up with your girlfriend, i'm bored        190440   False     True   \n",
       "bad idea                                        267106   False    False   \n",
       "Who Do You Love (with 5 Seconds of Summer)      226746   False     True   \n",
       "BLACKJACK (feat. YBN Cordae) - Remix            163120   False     True   \n",
       "\n",
       "                                                                                         href  \\\n",
       "track_name                                                                                      \n",
       "Talk                                        https://api.spotify.com/v1/tracks/0rTV5WefWd1J...   \n",
       "break up with your girlfriend, i'm bored    https://api.spotify.com/v1/tracks/4kV4N9D1iKVx...   \n",
       "bad idea                                    https://api.spotify.com/v1/tracks/5Il6Oe7lr5XM...   \n",
       "Who Do You Love (with 5 Seconds of Summer)  https://api.spotify.com/v1/tracks/11cDEev79fPK...   \n",
       "BLACKJACK (feat. YBN Cordae) - Remix        https://api.spotify.com/v1/tracks/59VNspSnCfoe...   \n",
       "\n",
       "                                                                id is_local  \\\n",
       "track_name                                                                    \n",
       "Talk                                        0rTV5WefWd1J3OwIheTzxM    False   \n",
       "break up with your girlfriend, i'm bored    4kV4N9D1iKVxx1KLvtTpjS    False   \n",
       "bad idea                                    5Il6Oe7lr5XM7A0cWbVQtr    False   \n",
       "Who Do You Love (with 5 Seconds of Summer)  11cDEev79fPKi6uJCjUhu8    False   \n",
       "BLACKJACK (feat. YBN Cordae) - Remix        59VNspSnCfoeGyNTGcSgsh    False   \n",
       "\n",
       "                                                                                  name  \\\n",
       "track_name                                                                               \n",
       "Talk                                                                              Talk   \n",
       "break up with your girlfriend, i'm bored      break up with your girlfriend, i'm bored   \n",
       "bad idea                                                                      bad idea   \n",
       "Who Do You Love (with 5 Seconds of Summer)  Who Do You Love (with 5 Seconds of Summer)   \n",
       "BLACKJACK (feat. YBN Cordae) - Remix              BLACKJACK (feat. YBN Cordae) - Remix   \n",
       "\n",
       "                                           popularity  ... instrumentalness  \\\n",
       "track_name                                             ...                    \n",
       "Talk                                                0  ...                0   \n",
       "break up with your girlfriend, i'm bored            0  ...                0   \n",
       "bad idea                                            0  ...           0.0477   \n",
       "Who Do You Love (with 5 Seconds of Summer)          0  ...                0   \n",
       "BLACKJACK (feat. YBN Cordae) - Remix                0  ...                0   \n",
       "\n",
       "                                           key liveness loudness mode  \\\n",
       "track_name                                                              \n",
       "Talk                                         0   0.0876   -8.443    1   \n",
       "break up with your girlfriend, i'm bored     5    0.108   -5.489    0   \n",
       "bad idea                                     1    0.116    -5.35    1   \n",
       "Who Do You Love (with 5 Seconds of Summer)   3    0.219   -4.673    1   \n",
       "BLACKJACK (feat. YBN Cordae) - Remix         2   0.0581   -6.284    1   \n",
       "\n",
       "                                           speechiness    tempo  \\\n",
       "track_name                                                        \n",
       "Talk                                             0.124  136.001   \n",
       "break up with your girlfriend, i'm bored         0.102  169.991   \n",
       "bad idea                                        0.0651  138.024   \n",
       "Who Do You Love (with 5 Seconds of Summer)      0.0447  140.024   \n",
       "BLACKJACK (feat. YBN Cordae) - Remix             0.278  130.977   \n",
       "\n",
       "                                           time_signature  \\\n",
       "track_name                                                  \n",
       "Talk                                                    4   \n",
       "break up with your girlfriend, i'm bored                4   \n",
       "bad idea                                                4   \n",
       "Who Do You Love (with 5 Seconds of Summer)              4   \n",
       "BLACKJACK (feat. YBN Cordae) - Remix                    4   \n",
       "\n",
       "                                                                                   track_href  \\\n",
       "track_name                                                                                      \n",
       "Talk                                        https://api.spotify.com/v1/tracks/0rTV5WefWd1J...   \n",
       "break up with your girlfriend, i'm bored    https://api.spotify.com/v1/tracks/4kV4N9D1iKVx...   \n",
       "bad idea                                    https://api.spotify.com/v1/tracks/5Il6Oe7lr5XM...   \n",
       "Who Do You Love (with 5 Seconds of Summer)  https://api.spotify.com/v1/tracks/11cDEev79fPK...   \n",
       "BLACKJACK (feat. YBN Cordae) - Remix        https://api.spotify.com/v1/tracks/59VNspSnCfoe...   \n",
       "\n",
       "                                           valence  \n",
       "track_name                                          \n",
       "Talk                                         0.338  \n",
       "break up with your girlfriend, i'm bored     0.348  \n",
       "bad idea                                     0.568  \n",
       "Who Do You Love (with 5 Seconds of Summer)   0.435  \n",
       "BLACKJACK (feat. YBN Cordae) - Remix         0.891  \n",
       "\n",
       "[5 rows x 29 columns]"
      ]
     },
     "execution_count": 18,
     "metadata": {},
     "output_type": "execute_result"
    }
   ],
   "source": [
    "df.head()"
   ]
  },
  {
   "cell_type": "code",
   "execution_count": 65,
   "metadata": {},
   "outputs": [
    {
     "data": {
      "text/plain": [
       "Index(['album', 'artists', 'duration_ms', 'episode', 'explicit', 'href', 'id',\n",
       "       'is_local', 'name', 'popularity', 'preview_url', 'track',\n",
       "       'track_number', 'type', 'uri', 'acousticness', 'analysis_url',\n",
       "       'danceability', 'energy', 'instrumentalness', 'key', 'liveness',\n",
       "       'loudness', 'mode', 'speechiness', 'tempo', 'time_signature',\n",
       "       'track_href', 'valence'],\n",
       "      dtype='object')"
      ]
     },
     "execution_count": 65,
     "metadata": {},
     "output_type": "execute_result"
    }
   ],
   "source": [
    "df.columns"
   ]
  },
  {
   "cell_type": "code",
   "execution_count": null,
   "metadata": {},
   "outputs": [],
   "source": []
  },
  {
   "cell_type": "code",
   "execution_count": 15,
   "metadata": {},
   "outputs": [
    {
     "data": {
      "text/plain": [
       "<matplotlib.axes._subplots.AxesSubplot at 0x17ec69b5ac8>"
      ]
     },
     "execution_count": 15,
     "metadata": {},
     "output_type": "execute_result"
    },
    {
     "data": {
      "image/png": "[encoded data removed]",
      "text/plain": [
       "<Figure size 432x288 with 1 Axes>"
      ]
     },
     "metadata": {
      "needs_background": "light"
     },
     "output_type": "display_data"
    }
   ],
   "source": [
    "df.danceability.plot.hist(alpha = 0.5, legend = True)\n",
    "df.energy.plot.hist(alpha = 0.5, legend = True)"
   ]
  },
  {
   "cell_type": "code",
   "execution_count": 87,
   "metadata": {},
   "outputs": [],
   "source": [
    "df.duration_ms = pd.to_numeric(df.duration_ms)\n",
    "df.acousticness = pd.to_numeric(df.acousticness)\n",
    "df.danceability = pd.to_numeric(df.danceability)\n",
    "#df.instrumentalness = pd.to_numeric(instrumentalness)\n",
    "df.speechiness = pd.to_numeric(df.speechiness)\n",
    "df.loudness = pd.to_numeric(df.loudness)\n",
    "df.liveness = pd.to_numeric(df.liveness)\n",
    "df.energy = pd.to_numeric(df.energy)\n",
    "df.tempo = pd.to_numeric(df.tempo)\n",
    "df.valence = pd.to_numeric(df.valence)\n",
    "df.popularity = pd.to_numeric(df.popularity)"
   ]
  },
  {
   "cell_type": "code",
   "execution_count": 81,
   "metadata": {},
   "outputs": [],
   "source": [
    "df.explicit = df.explicit.map({\n",
    "    True: \"Explicit\",\n",
    "    False: \"Clean\"\n",
    "})"
   ]
  },
  {
   "cell_type": "code",
   "execution_count": 90,
   "metadata": {},
   "outputs": [
    {
     "data": {
      "text/plain": [
       "explicit\n",
       "Clean       AxesSubplot(0.125,0.125;0.775x0.755)\n",
       "Explicit    AxesSubplot(0.125,0.125;0.775x0.755)\n",
       "Name: popularity, dtype: object"
      ]
     },
     "execution_count": 90,
     "metadata": {},
     "output_type": "execute_result"
    },
    {
     "data": {
      "image/png": "[encoded data removed]",
      "text/plain": [
       "<Figure size 432x288 with 1 Axes>"
      ]
     },
     "metadata": {
      "needs_background": "light"
     },
     "output_type": "display_data"
    }
   ],
   "source": [
    "df.groupby(\"explicit\").popularity.plot.hist(alpha=0.5, legend=True)"
   ]
  },
  {
   "cell_type": "code",
   "execution_count": 55,
   "metadata": {},
   "outputs": [
    {
     "data": {
      "text/plain": [
       "<matplotlib.axes._subplots.AxesSubplot at 0x17eca8c69e8>"
      ]
     },
     "execution_count": 55,
     "metadata": {},
     "output_type": "execute_result"
    },
    {
     "data": {
      "image/png": "[encoded data removed]",
      "text/plain": [
       "<Figure size 432x288 with 2 Axes>"
      ]
     },
     "metadata": {
      "needs_background": "light"
     },
     "output_type": "display_data"
    }
   ],
   "source": [
    "df.plot.scatter(x=\"speechiness\", y=\"loudness\", c=\"energy\", cmap = \"plasma\")"
   ]
  },
  {
   "cell_type": "code",
   "execution_count": 99,
   "metadata": {},
   "outputs": [
    {
     "data": {
      "text/plain": [
       "<matplotlib.axes._subplots.AxesSubplot at 0x17ecd7f1940>"
      ]
     },
     "execution_count": 99,
     "metadata": {},
     "output_type": "execute_result"
    },
    {
     "data": {
      "image/png": "[encoded data removed]",
      "text/plain": [
       "<Figure size 432x288 with 2 Axes>"
      ]
     },
     "metadata": {
      "needs_background": "light"
     },
     "output_type": "display_data"
    }
   ],
   "source": [
    "df.plot.scatter(x=\"loudness\", y=\"tempo\", c=\"energy\", cmap = \"rainbow\")"
   ]
  },
  {
   "cell_type": "code",
   "execution_count": null,
   "metadata": {},
   "outputs": [],
   "source": []
  },
  {
   "cell_type": "code",
   "execution_count": null,
   "metadata": {},
   "outputs": [],
   "source": []
  }
 ],
 "metadata": {
  "kernelspec": {
   "display_name": "Python 3",
   "language": "python",
   "name": "python3"
  },
  "language_info": {
   "codemirror_mode": {
    "name": "ipython",
    "version": 3
   },
   "file_extension": ".py",
   "mimetype": "text/x-python",
   "name": "python",
   "nbconvert_exporter": "python",
   "pygments_lexer": "ipython3",
   "version": "3.7.1"
  }
 },
 "nbformat": 4,
 "nbformat_minor": 2
}
