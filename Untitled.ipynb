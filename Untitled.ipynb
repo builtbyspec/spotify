{
 "cells": [
  {
   "cell_type": "code",
   "execution_count": 1,
   "metadata": {},
   "outputs": [],
   "source": [
    "import spotipy\n",
    "spotify = spotipy.Spotify()\n",
    "import sys\n",
    "import pandas as pd\n",
    "from spotipy.oauth2 import SpotifyClientCredentials\n",
    "from bs4 import BeautifulSoup\n",
    "import requests\n",
    "import lxml\n",
    "import spotfuncs \n",
    "%matplotlib inline\n",
    "\n",
    "filepath = \"C:/Users/epmmo/Documents/Spec/credentials.txt\"\n",
    "\n",
    "playlists = [\"mint\"]\n",
    "\n",
    "for i in playlists:\n",
    "    df = spotfuncs.get_spotify_playlist_data(playlist=i, credentials_file=filepath)\n",
    "    df.to_csv(\"{0}.csv\".format(i.replace(\" \",\"_\")))"
   ]
  },
  {
   "cell_type": "code",
   "execution_count": null,
   "metadata": {},
   "outputs": [],
   "source": []
  }
 ],
 "metadata": {
  "kernelspec": {
   "display_name": "Python 3",
   "language": "python",
   "name": "python3"
  },
  "language_info": {
   "codemirror_mode": {
    "name": "ipython",
    "version": 3
   },
   "file_extension": ".py",
   "mimetype": "text/x-python",
   "name": "python",
   "nbconvert_exporter": "python",
   "pygments_lexer": "ipython3",
   "version": "3.7.1"
  }
 },
 "nbformat": 4,
 "nbformat_minor": 2
}
