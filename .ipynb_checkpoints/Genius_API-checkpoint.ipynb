{
 "cells": [
  {
   "cell_type": "code",
   "execution_count": 1,
   "metadata": {},
   "outputs": [],
   "source": [
    "import spotipy\n",
    "spotify = spotipy.Spotify()\n",
    "import sys\n",
    "import pandas as pd\n",
    "from spotipy.oauth2 import SpotifyClientCredentials\n",
    "from bs4 import BeautifulSoup\n",
    "import lxml\n",
    "import spotfuncs \n",
    "import requests\n",
    "import pandas as pd\n",
    "import numpy as np\n",
    "from multiprocessing import Pool"
   ]
  },
  {
   "cell_type": "code",
   "execution_count": 2,
   "metadata": {},
   "outputs": [],
   "source": [
    "import nltk\n",
    "from nltk.tokenize import TweetTokenizer"
   ]
  },
  {
   "cell_type": "code",
   "execution_count": 3,
   "metadata": {},
   "outputs": [],
   "source": [
    "filepath = \"/Users/ramanyakkala/Spec/genius.txt\""
   ]
  },
  {
   "cell_type": "code",
   "execution_count": 4,
   "metadata": {},
   "outputs": [],
   "source": [
    "artist_id = spotfuncs.search_genius(\"Travis Scott\", credentials_file=filepath)\n",
    "genius_songs = spotfuncs.get_songs(artist_id, credentials_file=filepath)"
   ]
  },
  {
   "cell_type": "code",
   "execution_count": 5,
   "metadata": {},
   "outputs": [
    {
     "name": "stdout",
     "output_type": "stream",
     "text": [
      "90210 \n",
      "\n",
      "Kacy Hill & Chantel Jeffries ] (Dean, what's poppin'? Yo, Travis) Mhm, ooo-ooo-ooo-ooo-ooo Mama's bailing down that road, craving 9021... Chantel Jeffries ] She a porn star girl, oh, from the valley ( Honestly, God bless ) Who left her hometown world all for the alley Oh, created Lake Tahoe all from her panties ( I hope it was wet like my jumper, though ) Ooh, used to take the long way home Long way home, all for that candy, mm Baby's hooked on feeling numb Do, do, do Do, doo Jacques turn La Flame, now he rolling on an Addy 50 on a chain, another 50 on a Caddy, oh He might pop him a pill, pop him a seal, pop anyone Pop anything, pop anything to find that alley Hmm, yeah, then find an alley, mm Baby's hooked on feeling numb Do, do, do Do, doo Kacy Hill ] In the 90210, 90210, looking for that alley In the 90210, 90210, looking for that alley, ooh It's the superstar girl, superstar girl, roaming in that alley Baby's hooked on feeling numb In the 90210, 90210, somewhere in that alley Yeah, my granny called, she said, \"Travie, you work too hard I'm worried you'll forget about me\" I'm falling in and out of cuffs, don't worry, I'ma get it, Granny What happened? Now my daddy happy, Mama called me up That money coming and she love me, I done made it now I done found life's meaning now All them days her heart'd break, her heart not in pieces now Friends turning into fraud niggas Practicing, have the passion, you niggas packaged different All you niggas, you niggas want the swag, you can't have it I'ma sell it, you niggas salary bout' to cap, bitch Youngest nigga outta Houston at the Grammys Smiling at 'em laughing at me I passed the rock to Ye, he pump faked and passed it back, bitch All of this off of rapping, should've wrote this in Latin Yeah, mmm, I know, I know, I know, I know, I know I know, I know, I know, I know, I know Cuzzo said we in the store, yeah, we 'bout to drop a 4 He pass the cigarette, I choke Tell my auntie put them ports down, them ports down Now you know you love your own now Hit the stage, they got their hands up, don't put your nose down I ain't knockin', nigga, I knocked the door down, for sure now Whole crew, I swear they counting on me Gold chains, gold rings, I got an island on me Houses on me, he got them ounces on him Holy father, come save these niggas, I'm styling on 'em Good Lord, I see my good fortune in all these horses I'm driving too fast to stop, so all these signs, I ignore them Distant sky, from north of the border my chips is in order My mom's biggest supporter so now niggas support a nigga\n"
     ]
    }
   ],
   "source": [
    "name = \"90210\"\n",
    "url = genius_songs[\"90210\"][1]\n",
    "\n",
    "lyrics = spotfuncs.get_lyrics(url)\n",
    "\n",
    "print(name, '\\n')\n",
    "print(lyrics)"
   ]
  },
  {
   "cell_type": "code",
   "execution_count": 6,
   "metadata": {},
   "outputs": [
    {
     "data": {
      "text/html": [
       "<div>\n",
       "<style scoped>\n",
       "    .dataframe tbody tr th:only-of-type {\n",
       "        vertical-align: middle;\n",
       "    }\n",
       "\n",
       "    .dataframe tbody tr th {\n",
       "        vertical-align: top;\n",
       "    }\n",
       "\n",
       "    .dataframe thead th {\n",
       "        text-align: right;\n",
       "    }\n",
       "</style>\n",
       "<table border=\"1\" class=\"dataframe\">\n",
       "  <thead>\n",
       "    <tr style=\"text-align: right;\">\n",
       "      <th></th>\n",
       "      <th>pos</th>\n",
       "    </tr>\n",
       "  </thead>\n",
       "  <tbody>\n",
       "    <tr>\n",
       "      <th>0</th>\n",
       "      <td>100 Bottles</td>\n",
       "    </tr>\n",
       "    <tr>\n",
       "      <th>1</th>\n",
       "      <td>100 Bottles (Remix)</td>\n",
       "    </tr>\n",
       "    <tr>\n",
       "      <th>2</th>\n",
       "      <td>10 2 10</td>\n",
       "    </tr>\n",
       "    <tr>\n",
       "      <th>3</th>\n",
       "      <td>10 2 10 (Remix)</td>\n",
       "    </tr>\n",
       "    <tr>\n",
       "      <th>4</th>\n",
       "      <td>12 Disciples</td>\n",
       "    </tr>\n",
       "  </tbody>\n",
       "</table>\n",
       "</div>"
      ],
      "text/plain": [
       "                   pos\n",
       "0          100 Bottles\n",
       "1  100 Bottles (Remix)\n",
       "2              10 2 10\n",
       "3      10 2 10 (Remix)\n",
       "4         12 Disciples"
      ]
     },
     "execution_count": 6,
     "metadata": {},
     "output_type": "execute_result"
    }
   ],
   "source": [
    "travis_scott = pd.DataFrame([i for i in genius_songs.keys()],columns=[\"pos\"])\n",
    "travis_scott.head()"
   ]
  },
  {
   "cell_type": "markdown",
   "metadata": {},
   "source": [
    "New Change (Feb 15 2019): Used multiprocessing to make scraping lyrics much faster.\n",
    "\n",
    "- spotfuncs.get_lyrics(`genius_songs`) will return a list of lyrics for every song in the dict\n",
    "- spotfuncs.get_lyrics(`url`) will return the lyrics for any url of a genius song you get"
   ]
  },
  {
   "cell_type": "code",
   "execution_count": 7,
   "metadata": {},
   "outputs": [],
   "source": [
    "travis_scott[\"lyrics\"] = spotfuncs.get_lyrics(genius_songs)"
   ]
  },
  {
   "cell_type": "code",
   "execution_count": 10,
   "metadata": {},
   "outputs": [
    {
     "data": {
      "text/html": [
       "<div>\n",
       "<style scoped>\n",
       "    .dataframe tbody tr th:only-of-type {\n",
       "        vertical-align: middle;\n",
       "    }\n",
       "\n",
       "    .dataframe tbody tr th {\n",
       "        vertical-align: top;\n",
       "    }\n",
       "\n",
       "    .dataframe thead th {\n",
       "        text-align: right;\n",
       "    }\n",
       "</style>\n",
       "<table border=\"1\" class=\"dataframe\">\n",
       "  <thead>\n",
       "    <tr style=\"text-align: right;\">\n",
       "      <th></th>\n",
       "      <th>pos</th>\n",
       "      <th>lyrics</th>\n",
       "    </tr>\n",
       "  </thead>\n",
       "  <tbody>\n",
       "    <tr>\n",
       "      <th>0</th>\n",
       "      <td>100 Bottles</td>\n",
       "      <td>(La Flame!) Hundred bottles, but I might need ...</td>\n",
       "    </tr>\n",
       "    <tr>\n",
       "      <th>1</th>\n",
       "      <td>100 Bottles (Remix)</td>\n",
       "      <td>(La Flame)! 100 bottles but I might need some ...</td>\n",
       "    </tr>\n",
       "    <tr>\n",
       "      <th>2</th>\n",
       "      <td>10 2 10</td>\n",
       "      <td>Imma' be paid forever I look up Finally Famous...</td>\n",
       "    </tr>\n",
       "    <tr>\n",
       "      <th>3</th>\n",
       "      <td>10 2 10 (Remix)</td>\n",
       "      <td>I woke up workin' like I'm Mexican That mean I...</td>\n",
       "    </tr>\n",
       "    <tr>\n",
       "      <th>4</th>\n",
       "      <td>12 Disciples</td>\n",
       "      <td>I'm floating high, don't talk to me I'm rollin...</td>\n",
       "    </tr>\n",
       "  </tbody>\n",
       "</table>\n",
       "</div>"
      ],
      "text/plain": [
       "                   pos                                             lyrics\n",
       "0          100 Bottles  (La Flame!) Hundred bottles, but I might need ...\n",
       "1  100 Bottles (Remix)  (La Flame)! 100 bottles but I might need some ...\n",
       "2              10 2 10  Imma' be paid forever I look up Finally Famous...\n",
       "3      10 2 10 (Remix)  I woke up workin' like I'm Mexican That mean I...\n",
       "4         12 Disciples  I'm floating high, don't talk to me I'm rollin..."
      ]
     },
     "execution_count": 10,
     "metadata": {},
     "output_type": "execute_result"
    }
   ],
   "source": [
    "travis_scott.head()"
   ]
  },
  {
   "cell_type": "code",
   "execution_count": 9,
   "metadata": {},
   "outputs": [
    {
     "data": {
      "text/plain": [
       "\"Settle down, settle down, settle down Girl It's all over your face, there's someone taking my place Guess that's something that I'm dealing with now I guess there's nothing that I can do now I see you in the city Do they know you're with me Are you with me, baby? Girl you're with me baby Cause baby, close just isn't close enough Maybe my passion just ain't enough I can't feel that you love me. (Oooh) I can't feel that you love me. (Oh) Maybe, baby, I'm not listening Maybe i just don't got what you need I can feel that you love me no I can feel that you love me no more -Me no More -Me no More -Me no More -Me no More\""
      ]
     },
     "execution_count": 9,
     "metadata": {},
     "output_type": "execute_result"
    }
   ],
   "source": [
    "spotfuncs.get_lyrics(\"https://genius.com/Partynextdoor-tbh-lyrics\")"
   ]
  },
  {
   "cell_type": "code",
   "execution_count": null,
   "metadata": {},
   "outputs": [],
   "source": []
  }
 ],
 "metadata": {
  "kernelspec": {
   "display_name": "Python 3",
   "language": "python",
   "name": "python3"
  },
  "language_info": {
   "codemirror_mode": {
    "name": "ipython",
    "version": 3
   },
   "file_extension": ".py",
   "mimetype": "text/x-python",
   "name": "python",
   "nbconvert_exporter": "python",
   "pygments_lexer": "ipython3",
   "version": "3.6.6rc1"
  }
 },
 "nbformat": 4,
 "nbformat_minor": 2
}
