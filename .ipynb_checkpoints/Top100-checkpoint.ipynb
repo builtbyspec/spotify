{
 "cells": [
  {
   "cell_type": "code",
   "execution_count": 1,
   "metadata": {},
   "outputs": [],
   "source": [
    "%matplotlib inline\n",
    "import numpy as np\n",
    "import pandas as pd"
   ]
  },
  {
   "cell_type": "code",
   "execution_count": 2,
   "metadata": {},
   "outputs": [],
   "source": [
    "spot = pd.read_csv(\"/Users/ajaypatel21/Downloads/daily_top_acoustic-2.csv\")"
   ]
  },
  {
   "cell_type": "code",
   "execution_count": 3,
   "metadata": {},
   "outputs": [
    {
     "data": {
      "text/html": [
       "<div>\n",
       "<style scoped>\n",
       "    .dataframe tbody tr th:only-of-type {\n",
       "        vertical-align: middle;\n",
       "    }\n",
       "\n",
       "    .dataframe tbody tr th {\n",
       "        vertical-align: top;\n",
       "    }\n",
       "\n",
       "    .dataframe thead th {\n",
       "        text-align: right;\n",
       "    }\n",
       "</style>\n",
       "<table border=\"1\" class=\"dataframe\">\n",
       "  <thead>\n",
       "    <tr style=\"text-align: right;\">\n",
       "      <th></th>\n",
       "      <th>Unnamed: 0</th>\n",
       "      <th>Position</th>\n",
       "      <th>Track Name</th>\n",
       "      <th>Artist</th>\n",
       "      <th>Streams</th>\n",
       "      <th>URL</th>\n",
       "      <th>Date</th>\n",
       "      <th>Region</th>\n",
       "      <th>uri_x</th>\n",
       "      <th>acousticness</th>\n",
       "      <th>...</th>\n",
       "      <th>liveness</th>\n",
       "      <th>loudness</th>\n",
       "      <th>mode</th>\n",
       "      <th>speechiness</th>\n",
       "      <th>tempo</th>\n",
       "      <th>time_signature</th>\n",
       "      <th>track_href</th>\n",
       "      <th>type</th>\n",
       "      <th>uri_y</th>\n",
       "      <th>valence</th>\n",
       "    </tr>\n",
       "  </thead>\n",
       "  <tbody>\n",
       "    <tr>\n",
       "      <th>0</th>\n",
       "      <td>0</td>\n",
       "      <td>1</td>\n",
       "      <td>Reggaetón Lento (Bailemos)</td>\n",
       "      <td>CNCO</td>\n",
       "      <td>19272</td>\n",
       "      <td>https://open.spotify.com/track/3AEZUABDXNtecAO...</td>\n",
       "      <td>2017-01-01</td>\n",
       "      <td>ec</td>\n",
       "      <td>3AEZUABDXNtecAOSC1qTfo</td>\n",
       "      <td>0.40000</td>\n",
       "      <td>...</td>\n",
       "      <td>0.176</td>\n",
       "      <td>-3.073</td>\n",
       "      <td>0.0</td>\n",
       "      <td>0.0502</td>\n",
       "      <td>93.974</td>\n",
       "      <td>4.0</td>\n",
       "      <td>https://api.spotify.com/v1/tracks/3AEZUABDXNte...</td>\n",
       "      <td>audio_features</td>\n",
       "      <td>spotify:track:3AEZUABDXNtecAOSC1qTfo</td>\n",
       "      <td>0.710</td>\n",
       "    </tr>\n",
       "    <tr>\n",
       "      <th>1</th>\n",
       "      <td>1</td>\n",
       "      <td>2</td>\n",
       "      <td>Chantaje</td>\n",
       "      <td>Shakira</td>\n",
       "      <td>19270</td>\n",
       "      <td>https://open.spotify.com/track/6mICuAdrwEjh6Y6...</td>\n",
       "      <td>2017-01-01</td>\n",
       "      <td>ec</td>\n",
       "      <td>6mICuAdrwEjh6Y6lroV2Kg</td>\n",
       "      <td>0.18700</td>\n",
       "      <td>...</td>\n",
       "      <td>0.159</td>\n",
       "      <td>-2.921</td>\n",
       "      <td>0.0</td>\n",
       "      <td>0.0776</td>\n",
       "      <td>102.034</td>\n",
       "      <td>4.0</td>\n",
       "      <td>https://api.spotify.com/v1/tracks/6mICuAdrwEjh...</td>\n",
       "      <td>audio_features</td>\n",
       "      <td>spotify:track:6mICuAdrwEjh6Y6lroV2Kg</td>\n",
       "      <td>0.907</td>\n",
       "    </tr>\n",
       "    <tr>\n",
       "      <th>2</th>\n",
       "      <td>2</td>\n",
       "      <td>3</td>\n",
       "      <td>Otra Vez (feat. J Balvin)</td>\n",
       "      <td>Zion &amp; Lennox</td>\n",
       "      <td>15761</td>\n",
       "      <td>https://open.spotify.com/track/3QwBODjSEzelZyV...</td>\n",
       "      <td>2017-01-01</td>\n",
       "      <td>ec</td>\n",
       "      <td>3QwBODjSEzelZyVjxPOHdq</td>\n",
       "      <td>0.05590</td>\n",
       "      <td>...</td>\n",
       "      <td>0.440</td>\n",
       "      <td>-5.429</td>\n",
       "      <td>1.0</td>\n",
       "      <td>0.1000</td>\n",
       "      <td>96.016</td>\n",
       "      <td>4.0</td>\n",
       "      <td>https://api.spotify.com/v1/tracks/3QwBODjSEzel...</td>\n",
       "      <td>audio_features</td>\n",
       "      <td>spotify:track:3QwBODjSEzelZyVjxPOHdq</td>\n",
       "      <td>0.704</td>\n",
       "    </tr>\n",
       "    <tr>\n",
       "      <th>3</th>\n",
       "      <td>3</td>\n",
       "      <td>4</td>\n",
       "      <td>Vente Pa' Ca</td>\n",
       "      <td>Ricky Martin</td>\n",
       "      <td>14954</td>\n",
       "      <td>https://open.spotify.com/track/7DM4BPaS7uofFul...</td>\n",
       "      <td>2017-01-01</td>\n",
       "      <td>ec</td>\n",
       "      <td>7DM4BPaS7uofFul3ywMe46</td>\n",
       "      <td>0.00431</td>\n",
       "      <td>...</td>\n",
       "      <td>0.101</td>\n",
       "      <td>-4.070</td>\n",
       "      <td>0.0</td>\n",
       "      <td>0.2260</td>\n",
       "      <td>99.935</td>\n",
       "      <td>4.0</td>\n",
       "      <td>https://api.spotify.com/v1/tracks/7DM4BPaS7uof...</td>\n",
       "      <td>audio_features</td>\n",
       "      <td>spotify:track:7DM4BPaS7uofFul3ywMe46</td>\n",
       "      <td>0.533</td>\n",
       "    </tr>\n",
       "    <tr>\n",
       "      <th>4</th>\n",
       "      <td>4</td>\n",
       "      <td>5</td>\n",
       "      <td>Safari</td>\n",
       "      <td>J Balvin</td>\n",
       "      <td>14269</td>\n",
       "      <td>https://open.spotify.com/track/6rQSrBHf7HlZjtc...</td>\n",
       "      <td>2017-01-01</td>\n",
       "      <td>ec</td>\n",
       "      <td>6rQSrBHf7HlZjtcMZ4S4bO</td>\n",
       "      <td>0.55100</td>\n",
       "      <td>...</td>\n",
       "      <td>0.126</td>\n",
       "      <td>-4.361</td>\n",
       "      <td>1.0</td>\n",
       "      <td>0.3260</td>\n",
       "      <td>180.044</td>\n",
       "      <td>4.0</td>\n",
       "      <td>https://api.spotify.com/v1/tracks/6rQSrBHf7HlZ...</td>\n",
       "      <td>audio_features</td>\n",
       "      <td>spotify:track:6rQSrBHf7HlZjtcMZ4S4bO</td>\n",
       "      <td>0.555</td>\n",
       "    </tr>\n",
       "  </tbody>\n",
       "</table>\n",
       "<p>5 rows × 27 columns</p>\n",
       "</div>"
      ],
      "text/plain": [
       "   Unnamed: 0  Position                  Track Name         Artist  Streams  \\\n",
       "0           0         1  Reggaetón Lento (Bailemos)           CNCO    19272   \n",
       "1           1         2                    Chantaje        Shakira    19270   \n",
       "2           2         3   Otra Vez (feat. J Balvin)  Zion & Lennox    15761   \n",
       "3           3         4                Vente Pa' Ca   Ricky Martin    14954   \n",
       "4           4         5                      Safari       J Balvin    14269   \n",
       "\n",
       "                                                 URL        Date Region  \\\n",
       "0  https://open.spotify.com/track/3AEZUABDXNtecAO...  2017-01-01     ec   \n",
       "1  https://open.spotify.com/track/6mICuAdrwEjh6Y6...  2017-01-01     ec   \n",
       "2  https://open.spotify.com/track/3QwBODjSEzelZyV...  2017-01-01     ec   \n",
       "3  https://open.spotify.com/track/7DM4BPaS7uofFul...  2017-01-01     ec   \n",
       "4  https://open.spotify.com/track/6rQSrBHf7HlZjtc...  2017-01-01     ec   \n",
       "\n",
       "                    uri_x  acousticness   ...    liveness  loudness  mode  \\\n",
       "0  3AEZUABDXNtecAOSC1qTfo       0.40000   ...       0.176    -3.073   0.0   \n",
       "1  6mICuAdrwEjh6Y6lroV2Kg       0.18700   ...       0.159    -2.921   0.0   \n",
       "2  3QwBODjSEzelZyVjxPOHdq       0.05590   ...       0.440    -5.429   1.0   \n",
       "3  7DM4BPaS7uofFul3ywMe46       0.00431   ...       0.101    -4.070   0.0   \n",
       "4  6rQSrBHf7HlZjtcMZ4S4bO       0.55100   ...       0.126    -4.361   1.0   \n",
       "\n",
       "   speechiness    tempo  time_signature  \\\n",
       "0       0.0502   93.974             4.0   \n",
       "1       0.0776  102.034             4.0   \n",
       "2       0.1000   96.016             4.0   \n",
       "3       0.2260   99.935             4.0   \n",
       "4       0.3260  180.044             4.0   \n",
       "\n",
       "                                          track_href            type  \\\n",
       "0  https://api.spotify.com/v1/tracks/3AEZUABDXNte...  audio_features   \n",
       "1  https://api.spotify.com/v1/tracks/6mICuAdrwEjh...  audio_features   \n",
       "2  https://api.spotify.com/v1/tracks/3QwBODjSEzel...  audio_features   \n",
       "3  https://api.spotify.com/v1/tracks/7DM4BPaS7uof...  audio_features   \n",
       "4  https://api.spotify.com/v1/tracks/6rQSrBHf7HlZ...  audio_features   \n",
       "\n",
       "                                  uri_y  valence  \n",
       "0  spotify:track:3AEZUABDXNtecAOSC1qTfo    0.710  \n",
       "1  spotify:track:6mICuAdrwEjh6Y6lroV2Kg    0.907  \n",
       "2  spotify:track:3QwBODjSEzelZyVjxPOHdq    0.704  \n",
       "3  spotify:track:7DM4BPaS7uofFul3ywMe46    0.533  \n",
       "4  spotify:track:6rQSrBHf7HlZjtcMZ4S4bO    0.555  \n",
       "\n",
       "[5 rows x 27 columns]"
      ]
     },
     "execution_count": 3,
     "metadata": {},
     "output_type": "execute_result"
    }
   ],
   "source": [
    "spot.head()"
   ]
  },
  {
   "cell_type": "code",
   "execution_count": 4,
   "metadata": {},
   "outputs": [],
   "source": [
    "jan_01 = spot[spot.Date == \"2017-01-01\"]"
   ]
  },
  {
   "cell_type": "code",
   "execution_count": 5,
   "metadata": {},
   "outputs": [
    {
     "data": {
      "text/plain": [
       "<matplotlib.axes._subplots.AxesSubplot at 0x1885f9a58>"
      ]
     },
     "execution_count": 5,
     "metadata": {},
     "output_type": "execute_result"
    },
    {
     "data": {
      "image/png": "[encoded data removed]",
      "text/plain": [
       "<Figure size 432x288 with 1 Axes>"
      ]
     },
     "metadata": {
      "needs_background": "light"
     },
     "output_type": "display_data"
    }
   ],
   "source": [
    "jan_01.groupby([\"Region\"])[\"Streams\"].mean().plot(legend=True)"
   ]
  },
  {
   "cell_type": "code",
   "execution_count": 6,
   "metadata": {},
   "outputs": [],
   "source": [
    "fake_love = spot[spot[\"Track Name\"] == \"Fake Love\"]"
   ]
  },
  {
   "cell_type": "code",
   "execution_count": 7,
   "metadata": {},
   "outputs": [],
   "source": [
    "fake_love_us = fake_love[fake_love.Region == \"us\"]"
   ]
  },
  {
   "cell_type": "code",
   "execution_count": 8,
   "metadata": {},
   "outputs": [],
   "source": [
    "fake_love_ca = fake_love[fake_love.Region == \"ca\"]"
   ]
  },
  {
   "cell_type": "code",
   "execution_count": 9,
   "metadata": {},
   "outputs": [
    {
     "data": {
      "text/plain": [
       "<matplotlib.axes._subplots.AxesSubplot at 0x120e53438>"
      ]
     },
     "execution_count": 9,
     "metadata": {},
     "output_type": "execute_result"
    },
    {
     "data": {
      "image/png": "[encoded data removed]",
      "text/plain": [
       "<Figure size 432x288 with 1 Axes>"
      ]
     },
     "metadata": {
      "needs_background": "light"
     },
     "output_type": "display_data"
    }
   ],
   "source": [
    "fake_love_us.groupby([\"Date\"])[\"Streams\"].mean().plot.line()\n",
    "fake_love_ca.groupby([\"Date\"])[\"Streams\"].mean().plot.line()"
   ]
  },
  {
   "cell_type": "code",
   "execution_count": 10,
   "metadata": {},
   "outputs": [
    {
     "data": {
      "text/plain": [
       "array(['ec', 'fr', 'ar', 'fi', 'no', 'it', 'lt', 'ph', 'tw', 'nz', 'ee',\n",
       "       'tr', 'us', 'sv', 'cr', 'de', 'cl', 'jp', 'br', 'hn', 'gt', 'ch',\n",
       "       'hu', 'ca', 'pe', 'be', 'my', 'dk', 'bo', 'pl', 'at', 'pt', 'se',\n",
       "       'mx', 'pa', 'uy', 'is', 'es', 'cz', 'ie', 'nl', 'sk', 'co', 'sg',\n",
       "       'id', 'do', 'gb', 'global', 'py', 'au', 'lv', 'gr', 'hk'],\n",
       "      dtype=object)"
      ]
     },
     "execution_count": 10,
     "metadata": {},
     "output_type": "execute_result"
    }
   ],
   "source": [
    "fake_love.Region.unique()"
   ]
  },
  {
   "cell_type": "code",
   "execution_count": 11,
   "metadata": {},
   "outputs": [],
   "source": [
    "thotiana = spot[spot[\"Track Name\"] == \"Thotiana\"]"
   ]
  },
  {
   "cell_type": "code",
   "execution_count": 12,
   "metadata": {},
   "outputs": [],
   "source": [
    "thotiana_us = thotiana[thotiana.Region == \"us\"]\n",
    "thotiana_ca = thotiana[thotiana.Region == \"ca\"]\n",
    "thotiana_nz = thotiana[thotiana.Region == \"nz\"]\n",
    "thotiana_global = thotiana[thotiana.Region == \"global\"]\n",
    "thotiana_is = thotiana[thotiana.Region == \"is\"]\n",
    "thotiana_au = thotiana[thotiana.Region == \"au\"]\n",
    "thotiana_gb = thotiana[thotiana.Region == \"gb\"]\n",
    "thotiana_pt = thotiana[thotiana.Region == \"pt\"]\n",
    "thotiana_gr = thotiana[thotiana.Region == \"gr\"]\n",
    "thotiana_ch = thotiana[thotiana.Region == \"ch\"]\n",
    "thotiana_lv = thotiana[thotiana.Region == \"lv\"]\n",
    "thotiana_ie = thotiana[thotiana.Region == \"ie\"]\n",
    "thotiana_no = thotiana[thotiana.Region == \"no\"]\n",
    "thotiana_be = thotiana[thotiana.Region == \"be\"]\n",
    "thotiana_sk = thotiana[thotiana.Region == \"sk\"]\n",
    "thotiana_hu = thotiana[thotiana.Region == \"hu\"]\n",
    "thotiana_lt = thotiana[thotiana.Region == \"lt\"]\n",
    "thotiana_fi = thotiana[thotiana.Region == \"fi\"]\n",
    "thotiana_dk = thotiana[thotiana.Region == \"dk\"]\n",
    "thotiana_se = thotiana[thotiana.Region == \"se\"]\n",
    "thotiana_nl = thotiana[thotiana.Region == \"nl\"]\n",
    "thotiana_hk = thotiana[thotiana.Region == \"hk\"]\n",
    "thotiana_de = thotiana[thotiana.Region == \"de\"]\n",
    "thotiana_at = thotiana[thotiana.Region == \"at\"]\n",
    "thotiana_sg = thotiana[thotiana.Region == \"sg\"]\n",
    "thotiana_tw = thotiana[thotiana.Region == \"tw\"]\n",
    "thotiana_cz = thotiana[thotiana.Region == \"cz\"]\n",
    "thotiana_ee = thotiana[thotiana.Region == \"ee\"]\n",
    "thotiana_bg = thotiana[thotiana.Region == \"bg\"]\n",
    "thotiana_my = thotiana[thotiana.Region == \"my\"]"
   ]
  },
  {
   "cell_type": "code",
   "execution_count": 13,
   "metadata": {},
   "outputs": [
    {
     "data": {
      "text/plain": [
       "<matplotlib.axes._subplots.AxesSubplot at 0x1210f1f98>"
      ]
     },
     "execution_count": 13,
     "metadata": {},
     "output_type": "execute_result"
    },
    {
     "data": {
      "image/png": "[encoded data removed]",
      "text/plain": [
       "<Figure size 432x288 with 1 Axes>"
      ]
     },
     "metadata": {
      "needs_background": "light"
     },
     "output_type": "display_data"
    }
   ],
   "source": [
    "thotiana_us.groupby([\"Date\"])[\"Streams\"].mean().plot.line(legend=True, label=\"US\")\n",
    "thotiana_ca.groupby([\"Date\"])[\"Streams\"].mean().plot.line(legend=True, label=\"CA\")\n",
    "thotiana_nz.groupby([\"Date\"])[\"Streams\"].mean().plot.line(legend=True, label=\"NZ\")\n",
    "thotiana_global.groupby([\"Date\"])[\"Streams\"].mean().plot.line(legend=True, label=\"GLOBAL\")\n",
    "thotiana_is.groupby([\"Date\"])[\"Streams\"].mean().plot.line(legend=True, label=\"IS\")\n",
    "thotiana_au.groupby([\"Date\"])[\"Streams\"].mean().plot.line(legend=True, label=\"AU\")\n",
    "thotiana_gb.groupby([\"Date\"])[\"Streams\"].mean().plot.line(legend=True, label=\"GB\")\n",
    "thotiana_pt.groupby([\"Date\"])[\"Streams\"].mean().plot.line(legend=True, label=\"PT\")\n",
    "thotiana_gr.groupby([\"Date\"])[\"Streams\"].mean().plot.line(legend=True, label=\"GR\")\n",
    "thotiana_ch.groupby([\"Date\"])[\"Streams\"].mean().plot.line(legend=True, label=\"CH\")\n",
    "thotiana_lv.groupby([\"Date\"])[\"Streams\"].mean().plot.line(legend=True, label=\"LV\")\n",
    "thotiana_ie.groupby([\"Date\"])[\"Streams\"].mean().plot.line(legend=True, label=\"IE\")\n",
    "thotiana_no.groupby([\"Date\"])[\"Streams\"].mean().plot.line(legend=True, label=\"NO\")\n",
    "thotiana_be.groupby([\"Date\"])[\"Streams\"].mean().plot.line(legend=True, label=\"BE\")\n",
    "thotiana_sk.groupby([\"Date\"])[\"Streams\"].mean().plot.line(legend=True, label=\"SK\")\n",
    "thotiana_hu.groupby([\"Date\"])[\"Streams\"].mean().plot.line(legend=True, label=\"HU\")\n",
    "thotiana_lt.groupby([\"Date\"])[\"Streams\"].mean().plot.line(legend=True, label=\"LT\")\n",
    "thotiana_fi.groupby([\"Date\"])[\"Streams\"].mean().plot.line(legend=True, label=\"FI\")\n",
    "thotiana_dk.groupby([\"Date\"])[\"Streams\"].mean().plot.line(legend=True, label=\"DK\")\n",
    "thotiana_se.groupby([\"Date\"])[\"Streams\"].mean().plot.line(legend=True, label=\"SE\")\n",
    "thotiana_nl.groupby([\"Date\"])[\"Streams\"].mean().plot.line(legend=True, label=\"NL\")\n",
    "thotiana_hk.groupby([\"Date\"])[\"Streams\"].mean().plot.line(legend=True, label=\"HK\")\n",
    "thotiana_de.groupby([\"Date\"])[\"Streams\"].mean().plot.line(legend=True, label=\"DE\")\n",
    "thotiana_at.groupby([\"Date\"])[\"Streams\"].mean().plot.line(legend=True, label=\"AT\")\n",
    "thotiana_sg.groupby([\"Date\"])[\"Streams\"].mean().plot.line(legend=True, label=\"SG\")\n",
    "thotiana_tw.groupby([\"Date\"])[\"Streams\"].mean().plot.line(legend=True, label=\"TW\")\n",
    "thotiana_cz.groupby([\"Date\"])[\"Streams\"].mean().plot.line(legend=True, label=\"CZ\")\n",
    "thotiana_ee.groupby([\"Date\"])[\"Streams\"].mean().plot.line(legend=True, label=\"EE\")\n",
    "thotiana_bg.groupby([\"Date\"])[\"Streams\"].mean().plot.line(legend=True, label=\"BG\")\n",
    "thotiana_my.groupby([\"Date\"])[\"Streams\"].mean().plot.line(legend=True, label=\"MY\")"
   ]
  },
  {
   "cell_type": "code",
   "execution_count": 14,
   "metadata": {},
   "outputs": [],
   "source": [
    "thotiana_greater = thotiana[thotiana.Streams > 0]"
   ]
  },
  {
   "cell_type": "code",
   "execution_count": 15,
   "metadata": {},
   "outputs": [
    {
     "data": {
      "image/png": "[encoded data removed]",
      "text/plain": [
       "<Figure size 432x288 with 1 Axes>"
      ]
     },
     "metadata": {
      "needs_background": "light"
     },
     "output_type": "display_data"
    }
   ],
   "source": [
    "for regions in thotiana_greater.Region.unique():\n",
    "    thotiana_greater.groupby([\"Date\"])[\"Streams\"].mean().plot.line(legend=True, label=regions)"
   ]
  },
  {
   "cell_type": "code",
   "execution_count": 16,
   "metadata": {},
   "outputs": [
    {
     "name": "stdout",
     "output_type": "stream",
     "text": [
      "111864\n"
     ]
    },
    {
     "data": {
      "text/html": [
       "<div>\n",
       "<style scoped>\n",
       "    .dataframe tbody tr th:only-of-type {\n",
       "        vertical-align: middle;\n",
       "    }\n",
       "\n",
       "    .dataframe tbody tr th {\n",
       "        vertical-align: top;\n",
       "    }\n",
       "\n",
       "    .dataframe thead th {\n",
       "        text-align: right;\n",
       "    }\n",
       "</style>\n",
       "<table border=\"1\" class=\"dataframe\">\n",
       "  <thead>\n",
       "    <tr style=\"text-align: right;\">\n",
       "      <th></th>\n",
       "      <th>Unnamed: 0</th>\n",
       "      <th>Position</th>\n",
       "      <th>Track Name</th>\n",
       "      <th>Artist</th>\n",
       "      <th>Streams</th>\n",
       "      <th>URL</th>\n",
       "      <th>Date</th>\n",
       "      <th>Region</th>\n",
       "      <th>uri_x</th>\n",
       "      <th>acousticness</th>\n",
       "      <th>...</th>\n",
       "      <th>liveness</th>\n",
       "      <th>loudness</th>\n",
       "      <th>mode</th>\n",
       "      <th>speechiness</th>\n",
       "      <th>tempo</th>\n",
       "      <th>time_signature</th>\n",
       "      <th>track_href</th>\n",
       "      <th>type</th>\n",
       "      <th>uri_y</th>\n",
       "      <th>valence</th>\n",
       "    </tr>\n",
       "  </thead>\n",
       "  <tbody>\n",
       "    <tr>\n",
       "      <th>16</th>\n",
       "      <td>16</td>\n",
       "      <td>17</td>\n",
       "      <td>One Dance</td>\n",
       "      <td>Drake</td>\n",
       "      <td>7472</td>\n",
       "      <td>https://open.spotify.com/track/1xznGGDReH1oQq0...</td>\n",
       "      <td>2017-01-01</td>\n",
       "      <td>ec</td>\n",
       "      <td>1xznGGDReH1oQq0xzbwXa3</td>\n",
       "      <td>0.00784</td>\n",
       "      <td>...</td>\n",
       "      <td>0.351</td>\n",
       "      <td>-5.886</td>\n",
       "      <td>1.0</td>\n",
       "      <td>0.0532</td>\n",
       "      <td>103.989</td>\n",
       "      <td>4.0</td>\n",
       "      <td>https://api.spotify.com/v1/tracks/1xznGGDReH1o...</td>\n",
       "      <td>audio_features</td>\n",
       "      <td>spotify:track:1xznGGDReH1oQq0xzbwXa3</td>\n",
       "      <td>0.371</td>\n",
       "    </tr>\n",
       "    <tr>\n",
       "      <th>149</th>\n",
       "      <td>149</td>\n",
       "      <td>150</td>\n",
       "      <td>Too Good</td>\n",
       "      <td>Drake</td>\n",
       "      <td>1461</td>\n",
       "      <td>https://open.spotify.com/track/11KJSRSgaDxqydK...</td>\n",
       "      <td>2017-01-01</td>\n",
       "      <td>ec</td>\n",
       "      <td>11KJSRSgaDxqydKYiD2Jew</td>\n",
       "      <td>0.05730</td>\n",
       "      <td>...</td>\n",
       "      <td>0.102</td>\n",
       "      <td>-7.805</td>\n",
       "      <td>1.0</td>\n",
       "      <td>0.1170</td>\n",
       "      <td>117.983</td>\n",
       "      <td>4.0</td>\n",
       "      <td>https://api.spotify.com/v1/tracks/11KJSRSgaDxq...</td>\n",
       "      <td>audio_features</td>\n",
       "      <td>spotify:track:11KJSRSgaDxqydKYiD2Jew</td>\n",
       "      <td>0.392</td>\n",
       "    </tr>\n",
       "    <tr>\n",
       "      <th>165</th>\n",
       "      <td>165</td>\n",
       "      <td>166</td>\n",
       "      <td>Fake Love</td>\n",
       "      <td>Drake</td>\n",
       "      <td>1377</td>\n",
       "      <td>https://open.spotify.com/track/343YBumqHu19cGo...</td>\n",
       "      <td>2017-01-01</td>\n",
       "      <td>ec</td>\n",
       "      <td>343YBumqHu19cGoGARUTsd</td>\n",
       "      <td>0.10800</td>\n",
       "      <td>...</td>\n",
       "      <td>0.196</td>\n",
       "      <td>-9.433</td>\n",
       "      <td>0.0</td>\n",
       "      <td>0.4200</td>\n",
       "      <td>133.987</td>\n",
       "      <td>4.0</td>\n",
       "      <td>https://api.spotify.com/v1/tracks/343YBumqHu19...</td>\n",
       "      <td>audio_features</td>\n",
       "      <td>spotify:track:343YBumqHu19cGoGARUTsd</td>\n",
       "      <td>0.605</td>\n",
       "    </tr>\n",
       "    <tr>\n",
       "      <th>213</th>\n",
       "      <td>213</td>\n",
       "      <td>14</td>\n",
       "      <td>One Dance</td>\n",
       "      <td>Drake</td>\n",
       "      <td>7437</td>\n",
       "      <td>https://open.spotify.com/track/1xznGGDReH1oQq0...</td>\n",
       "      <td>2017-01-02</td>\n",
       "      <td>ec</td>\n",
       "      <td>1xznGGDReH1oQq0xzbwXa3</td>\n",
       "      <td>0.00784</td>\n",
       "      <td>...</td>\n",
       "      <td>0.351</td>\n",
       "      <td>-5.886</td>\n",
       "      <td>1.0</td>\n",
       "      <td>0.0532</td>\n",
       "      <td>103.989</td>\n",
       "      <td>4.0</td>\n",
       "      <td>https://api.spotify.com/v1/tracks/1xznGGDReH1o...</td>\n",
       "      <td>audio_features</td>\n",
       "      <td>spotify:track:1xznGGDReH1oQq0xzbwXa3</td>\n",
       "      <td>0.371</td>\n",
       "    </tr>\n",
       "    <tr>\n",
       "      <th>309</th>\n",
       "      <td>309</td>\n",
       "      <td>110</td>\n",
       "      <td>Fake Love</td>\n",
       "      <td>Drake</td>\n",
       "      <td>1888</td>\n",
       "      <td>https://open.spotify.com/track/343YBumqHu19cGo...</td>\n",
       "      <td>2017-01-02</td>\n",
       "      <td>ec</td>\n",
       "      <td>343YBumqHu19cGoGARUTsd</td>\n",
       "      <td>0.10800</td>\n",
       "      <td>...</td>\n",
       "      <td>0.196</td>\n",
       "      <td>-9.433</td>\n",
       "      <td>0.0</td>\n",
       "      <td>0.4200</td>\n",
       "      <td>133.987</td>\n",
       "      <td>4.0</td>\n",
       "      <td>https://api.spotify.com/v1/tracks/343YBumqHu19...</td>\n",
       "      <td>audio_features</td>\n",
       "      <td>spotify:track:343YBumqHu19cGoGARUTsd</td>\n",
       "      <td>0.605</td>\n",
       "    </tr>\n",
       "  </tbody>\n",
       "</table>\n",
       "<p>5 rows × 27 columns</p>\n",
       "</div>"
      ],
      "text/plain": [
       "     Unnamed: 0  Position Track Name Artist  Streams  \\\n",
       "16           16        17  One Dance  Drake     7472   \n",
       "149         149       150   Too Good  Drake     1461   \n",
       "165         165       166  Fake Love  Drake     1377   \n",
       "213         213        14  One Dance  Drake     7437   \n",
       "309         309       110  Fake Love  Drake     1888   \n",
       "\n",
       "                                                   URL        Date Region  \\\n",
       "16   https://open.spotify.com/track/1xznGGDReH1oQq0...  2017-01-01     ec   \n",
       "149  https://open.spotify.com/track/11KJSRSgaDxqydK...  2017-01-01     ec   \n",
       "165  https://open.spotify.com/track/343YBumqHu19cGo...  2017-01-01     ec   \n",
       "213  https://open.spotify.com/track/1xznGGDReH1oQq0...  2017-01-02     ec   \n",
       "309  https://open.spotify.com/track/343YBumqHu19cGo...  2017-01-02     ec   \n",
       "\n",
       "                      uri_x  acousticness   ...    liveness  loudness  mode  \\\n",
       "16   1xznGGDReH1oQq0xzbwXa3       0.00784   ...       0.351    -5.886   1.0   \n",
       "149  11KJSRSgaDxqydKYiD2Jew       0.05730   ...       0.102    -7.805   1.0   \n",
       "165  343YBumqHu19cGoGARUTsd       0.10800   ...       0.196    -9.433   0.0   \n",
       "213  1xznGGDReH1oQq0xzbwXa3       0.00784   ...       0.351    -5.886   1.0   \n",
       "309  343YBumqHu19cGoGARUTsd       0.10800   ...       0.196    -9.433   0.0   \n",
       "\n",
       "     speechiness    tempo  time_signature  \\\n",
       "16        0.0532  103.989             4.0   \n",
       "149       0.1170  117.983             4.0   \n",
       "165       0.4200  133.987             4.0   \n",
       "213       0.0532  103.989             4.0   \n",
       "309       0.4200  133.987             4.0   \n",
       "\n",
       "                                            track_href            type  \\\n",
       "16   https://api.spotify.com/v1/tracks/1xznGGDReH1o...  audio_features   \n",
       "149  https://api.spotify.com/v1/tracks/11KJSRSgaDxq...  audio_features   \n",
       "165  https://api.spotify.com/v1/tracks/343YBumqHu19...  audio_features   \n",
       "213  https://api.spotify.com/v1/tracks/1xznGGDReH1o...  audio_features   \n",
       "309  https://api.spotify.com/v1/tracks/343YBumqHu19...  audio_features   \n",
       "\n",
       "                                    uri_y  valence  \n",
       "16   spotify:track:1xznGGDReH1oQq0xzbwXa3    0.371  \n",
       "149  spotify:track:11KJSRSgaDxqydKYiD2Jew    0.392  \n",
       "165  spotify:track:343YBumqHu19cGoGARUTsd    0.605  \n",
       "213  spotify:track:1xznGGDReH1oQq0xzbwXa3    0.371  \n",
       "309  spotify:track:343YBumqHu19cGoGARUTsd    0.605  \n",
       "\n",
       "[5 rows x 27 columns]"
      ]
     },
     "execution_count": 16,
     "metadata": {},
     "output_type": "execute_result"
    }
   ],
   "source": [
    "drake = spot[spot.Artist == \"Drake\"]\n",
    "print(len(drake))\n",
    "drake.head()"
   ]
  },
  {
   "cell_type": "code",
   "execution_count": 17,
   "metadata": {},
   "outputs": [
    {
     "data": {
      "text/plain": [
       "Track Name\n",
       "God's Plan        2413434736\n",
       "In My Feelings    1550196590\n",
       "Nice For What     1187142024\n",
       "Passionfruit       936629456\n",
       "One Dance          931738342\n",
       "Name: Streams, dtype: int64"
      ]
     },
     "execution_count": 17,
     "metadata": {},
     "output_type": "execute_result"
    }
   ],
   "source": [
    "drake.groupby([\"Track Name\"])[\"Streams\"].sum().sort_values(ascending=False)[0:5]"
   ]
  },
  {
   "cell_type": "code",
   "execution_count": 18,
   "metadata": {},
   "outputs": [
    {
     "data": {
      "text/html": [
       "<div>\n",
       "<style scoped>\n",
       "    .dataframe tbody tr th:only-of-type {\n",
       "        vertical-align: middle;\n",
       "    }\n",
       "\n",
       "    .dataframe tbody tr th {\n",
       "        vertical-align: top;\n",
       "    }\n",
       "\n",
       "    .dataframe thead th {\n",
       "        text-align: right;\n",
       "    }\n",
       "</style>\n",
       "<table border=\"1\" class=\"dataframe\">\n",
       "  <thead>\n",
       "    <tr style=\"text-align: right;\">\n",
       "      <th></th>\n",
       "      <th>Unnamed: 0</th>\n",
       "      <th>Position</th>\n",
       "      <th>Track Name</th>\n",
       "      <th>Artist</th>\n",
       "      <th>Streams</th>\n",
       "      <th>URL</th>\n",
       "      <th>Date</th>\n",
       "      <th>Region</th>\n",
       "      <th>uri_x</th>\n",
       "      <th>acousticness</th>\n",
       "      <th>...</th>\n",
       "      <th>liveness</th>\n",
       "      <th>loudness</th>\n",
       "      <th>mode</th>\n",
       "      <th>speechiness</th>\n",
       "      <th>tempo</th>\n",
       "      <th>time_signature</th>\n",
       "      <th>track_href</th>\n",
       "      <th>type</th>\n",
       "      <th>uri_y</th>\n",
       "      <th>valence</th>\n",
       "    </tr>\n",
       "  </thead>\n",
       "  <tbody>\n",
       "    <tr>\n",
       "      <th>16</th>\n",
       "      <td>16</td>\n",
       "      <td>17</td>\n",
       "      <td>One Dance</td>\n",
       "      <td>Drake</td>\n",
       "      <td>7472</td>\n",
       "      <td>https://open.spotify.com/track/1xznGGDReH1oQq0...</td>\n",
       "      <td>2017-01-01</td>\n",
       "      <td>ec</td>\n",
       "      <td>1xznGGDReH1oQq0xzbwXa3</td>\n",
       "      <td>0.00784</td>\n",
       "      <td>...</td>\n",
       "      <td>0.351</td>\n",
       "      <td>-5.886</td>\n",
       "      <td>1.0</td>\n",
       "      <td>0.0532</td>\n",
       "      <td>103.989</td>\n",
       "      <td>4.0</td>\n",
       "      <td>https://api.spotify.com/v1/tracks/1xznGGDReH1o...</td>\n",
       "      <td>audio_features</td>\n",
       "      <td>spotify:track:1xznGGDReH1oQq0xzbwXa3</td>\n",
       "      <td>0.371</td>\n",
       "    </tr>\n",
       "    <tr>\n",
       "      <th>213</th>\n",
       "      <td>213</td>\n",
       "      <td>14</td>\n",
       "      <td>One Dance</td>\n",
       "      <td>Drake</td>\n",
       "      <td>7437</td>\n",
       "      <td>https://open.spotify.com/track/1xznGGDReH1oQq0...</td>\n",
       "      <td>2017-01-02</td>\n",
       "      <td>ec</td>\n",
       "      <td>1xznGGDReH1oQq0xzbwXa3</td>\n",
       "      <td>0.00784</td>\n",
       "      <td>...</td>\n",
       "      <td>0.351</td>\n",
       "      <td>-5.886</td>\n",
       "      <td>1.0</td>\n",
       "      <td>0.0532</td>\n",
       "      <td>103.989</td>\n",
       "      <td>4.0</td>\n",
       "      <td>https://api.spotify.com/v1/tracks/1xznGGDReH1o...</td>\n",
       "      <td>audio_features</td>\n",
       "      <td>spotify:track:1xznGGDReH1oQq0xzbwXa3</td>\n",
       "      <td>0.371</td>\n",
       "    </tr>\n",
       "    <tr>\n",
       "      <th>412</th>\n",
       "      <td>412</td>\n",
       "      <td>13</td>\n",
       "      <td>One Dance</td>\n",
       "      <td>Drake</td>\n",
       "      <td>8357</td>\n",
       "      <td>https://open.spotify.com/track/1xznGGDReH1oQq0...</td>\n",
       "      <td>2017-01-03</td>\n",
       "      <td>ec</td>\n",
       "      <td>1xznGGDReH1oQq0xzbwXa3</td>\n",
       "      <td>0.00784</td>\n",
       "      <td>...</td>\n",
       "      <td>0.351</td>\n",
       "      <td>-5.886</td>\n",
       "      <td>1.0</td>\n",
       "      <td>0.0532</td>\n",
       "      <td>103.989</td>\n",
       "      <td>4.0</td>\n",
       "      <td>https://api.spotify.com/v1/tracks/1xznGGDReH1o...</td>\n",
       "      <td>audio_features</td>\n",
       "      <td>spotify:track:1xznGGDReH1oQq0xzbwXa3</td>\n",
       "      <td>0.371</td>\n",
       "    </tr>\n",
       "    <tr>\n",
       "      <th>614</th>\n",
       "      <td>614</td>\n",
       "      <td>15</td>\n",
       "      <td>One Dance</td>\n",
       "      <td>Drake</td>\n",
       "      <td>7901</td>\n",
       "      <td>https://open.spotify.com/track/1xznGGDReH1oQq0...</td>\n",
       "      <td>2017-01-04</td>\n",
       "      <td>ec</td>\n",
       "      <td>1xznGGDReH1oQq0xzbwXa3</td>\n",
       "      <td>0.00784</td>\n",
       "      <td>...</td>\n",
       "      <td>0.351</td>\n",
       "      <td>-5.886</td>\n",
       "      <td>1.0</td>\n",
       "      <td>0.0532</td>\n",
       "      <td>103.989</td>\n",
       "      <td>4.0</td>\n",
       "      <td>https://api.spotify.com/v1/tracks/1xznGGDReH1o...</td>\n",
       "      <td>audio_features</td>\n",
       "      <td>spotify:track:1xznGGDReH1oQq0xzbwXa3</td>\n",
       "      <td>0.371</td>\n",
       "    </tr>\n",
       "    <tr>\n",
       "      <th>817</th>\n",
       "      <td>817</td>\n",
       "      <td>18</td>\n",
       "      <td>One Dance</td>\n",
       "      <td>Drake</td>\n",
       "      <td>7569</td>\n",
       "      <td>https://open.spotify.com/track/1xznGGDReH1oQq0...</td>\n",
       "      <td>2017-01-05</td>\n",
       "      <td>ec</td>\n",
       "      <td>1xznGGDReH1oQq0xzbwXa3</td>\n",
       "      <td>0.00784</td>\n",
       "      <td>...</td>\n",
       "      <td>0.351</td>\n",
       "      <td>-5.886</td>\n",
       "      <td>1.0</td>\n",
       "      <td>0.0532</td>\n",
       "      <td>103.989</td>\n",
       "      <td>4.0</td>\n",
       "      <td>https://api.spotify.com/v1/tracks/1xznGGDReH1o...</td>\n",
       "      <td>audio_features</td>\n",
       "      <td>spotify:track:1xznGGDReH1oQq0xzbwXa3</td>\n",
       "      <td>0.371</td>\n",
       "    </tr>\n",
       "  </tbody>\n",
       "</table>\n",
       "<p>5 rows × 27 columns</p>\n",
       "</div>"
      ],
      "text/plain": [
       "     Unnamed: 0  Position Track Name Artist  Streams  \\\n",
       "16           16        17  One Dance  Drake     7472   \n",
       "213         213        14  One Dance  Drake     7437   \n",
       "412         412        13  One Dance  Drake     8357   \n",
       "614         614        15  One Dance  Drake     7901   \n",
       "817         817        18  One Dance  Drake     7569   \n",
       "\n",
       "                                                   URL        Date Region  \\\n",
       "16   https://open.spotify.com/track/1xznGGDReH1oQq0...  2017-01-01     ec   \n",
       "213  https://open.spotify.com/track/1xznGGDReH1oQq0...  2017-01-02     ec   \n",
       "412  https://open.spotify.com/track/1xznGGDReH1oQq0...  2017-01-03     ec   \n",
       "614  https://open.spotify.com/track/1xznGGDReH1oQq0...  2017-01-04     ec   \n",
       "817  https://open.spotify.com/track/1xznGGDReH1oQq0...  2017-01-05     ec   \n",
       "\n",
       "                      uri_x  acousticness   ...    liveness  loudness  mode  \\\n",
       "16   1xznGGDReH1oQq0xzbwXa3       0.00784   ...       0.351    -5.886   1.0   \n",
       "213  1xznGGDReH1oQq0xzbwXa3       0.00784   ...       0.351    -5.886   1.0   \n",
       "412  1xznGGDReH1oQq0xzbwXa3       0.00784   ...       0.351    -5.886   1.0   \n",
       "614  1xznGGDReH1oQq0xzbwXa3       0.00784   ...       0.351    -5.886   1.0   \n",
       "817  1xznGGDReH1oQq0xzbwXa3       0.00784   ...       0.351    -5.886   1.0   \n",
       "\n",
       "     speechiness    tempo  time_signature  \\\n",
       "16        0.0532  103.989             4.0   \n",
       "213       0.0532  103.989             4.0   \n",
       "412       0.0532  103.989             4.0   \n",
       "614       0.0532  103.989             4.0   \n",
       "817       0.0532  103.989             4.0   \n",
       "\n",
       "                                            track_href            type  \\\n",
       "16   https://api.spotify.com/v1/tracks/1xznGGDReH1o...  audio_features   \n",
       "213  https://api.spotify.com/v1/tracks/1xznGGDReH1o...  audio_features   \n",
       "412  https://api.spotify.com/v1/tracks/1xznGGDReH1o...  audio_features   \n",
       "614  https://api.spotify.com/v1/tracks/1xznGGDReH1o...  audio_features   \n",
       "817  https://api.spotify.com/v1/tracks/1xznGGDReH1o...  audio_features   \n",
       "\n",
       "                                    uri_y  valence  \n",
       "16   spotify:track:1xznGGDReH1oQq0xzbwXa3    0.371  \n",
       "213  spotify:track:1xznGGDReH1oQq0xzbwXa3    0.371  \n",
       "412  spotify:track:1xznGGDReH1oQq0xzbwXa3    0.371  \n",
       "614  spotify:track:1xznGGDReH1oQq0xzbwXa3    0.371  \n",
       "817  spotify:track:1xznGGDReH1oQq0xzbwXa3    0.371  \n",
       "\n",
       "[5 rows x 27 columns]"
      ]
     },
     "execution_count": 18,
     "metadata": {},
     "output_type": "execute_result"
    }
   ],
   "source": [
    "drake_top5 = drake[(drake[\"Track Name\"] == \"God's Plan\") | \n",
    "                   (drake[\"Track Name\"] == \"In My Feelings\") |\n",
    "                   (drake[\"Track Name\"] == \"Nice For What\") | \n",
    "                   (drake[\"Track Name\"] == \"Passionfruit\") |\n",
    "                   (drake[\"Track Name\"] == \"One Dance\")]\n",
    "drake_top5.head()"
   ]
  },
  {
   "cell_type": "code",
   "execution_count": 19,
   "metadata": {},
   "outputs": [
    {
     "data": {
      "text/plain": [
       "array(['ec', 'fr', 'ar', 'fi', 'no', 'it', 'lt', 'ph', 'tw', 'nz', 'ee',\n",
       "       'tr', 'us', 'sv', 'cr', 'de', 'cl', 'jp', 'br', 'hn', 'gt', 'ch',\n",
       "       'hu', 'ca', 'pe', 'be', 'my', 'dk', 'bo', 'pl', 'at', 'pt', 'se',\n",
       "       'mx', 'pa', 'uy', 'is', 'es', 'cz', 'ie', 'nl', 'sk', 'co', 'sg',\n",
       "       'id', 'do', 'lu', 'gb', 'global', 'py', 'au', 'lv', 'gr', 'hk',\n",
       "       'bg', 'mt', 'ni'], dtype=object)"
      ]
     },
     "execution_count": 19,
     "metadata": {},
     "output_type": "execute_result"
    }
   ],
   "source": [
    "drake_top5.Region.unique()"
   ]
  },
  {
   "cell_type": "code",
   "execution_count": 20,
   "metadata": {},
   "outputs": [
    {
     "name": "stderr",
     "output_type": "stream",
     "text": [
      "/anaconda3/lib/python3.7/site-packages/ipykernel_launcher.py:57: SettingWithCopyWarning: \n",
      "A value is trying to be set on a copy of a slice from a DataFrame.\n",
      "Try using .loc[row_indexer,col_indexer] = value instead\n",
      "\n",
      "See the caveats in the documentation: http://pandas.pydata.org/pandas-docs/stable/indexing.html#indexing-view-versus-copy\n"
     ]
    }
   ],
   "source": [
    "drake_top5[\"Continent\"] = drake_top5[\"Region\"].map({\n",
    "    \n",
    "    \"ec\" : \"South America\",\n",
    "    \"ar\": \"South America\",\n",
    "    \"sv\" : \"South America\",\n",
    "    \"cr\" : \"South America\",\n",
    "    \"cl\" : \"South America\",\n",
    "    \"br\" : \"South America\",\n",
    "    \"hn\" : \"South America\",\n",
    "    \"gt\" : \"South America\",\n",
    "    \"bo\" : \"South America\",\n",
    "    \"pa\" : \"South America\",\n",
    "    \"uy\" : \"South America\",\n",
    "    \"co\" : \"South America\",\n",
    "    \"do\" : \"South America\",\n",
    "    \"py\" : \"South America\",\n",
    "    \"ni\" : \"South America\",\n",
    "    \"us\": \"North America\",\n",
    "    \"ca\": \"North America\",\n",
    "    \"mx\": \"North America\",\n",
    "    \"fr\" : \"Europe\",\n",
    "    \"fi\" : \"Europe\",\n",
    "    \"no\" : \"Europe\",\n",
    "    \"it\" : \"Europe\",\n",
    "    \"lt\" : \"Europe\",\n",
    "    \"ee\" : \"Europe\",\n",
    "    \"tr\" : \"Europe\",\n",
    "    \"de\" : \"Europe\",\n",
    "    \"ch\" : \"Europe\",\n",
    "    \"hu\" : \"Europe\",\n",
    "    \"pe\" : \"Europe\",\n",
    "    \"be\" : \"Europe\",\n",
    "    \"dk\" : \"Europe\",\n",
    "    \"pl\" : \"Europe\",\n",
    "    \"se\" : \"Europe\",\n",
    "    \"is\" : \"Europe\",\n",
    "    \"es\" : \"Europe\",\n",
    "    \"cz\" : \"Europe\",\n",
    "    \"ie\" : \"Europe\",\n",
    "    \"nl\" : \"Europe\",\n",
    "    \"sk\" : \"Europe\",\n",
    "    \"lu\" : \"Europe\",\n",
    "    \"gb\" : \"Europe\",\n",
    "    \"lv\" : \"Europe\",\n",
    "    \"gr\" : \"Europe\",\n",
    "    \"bg\" : \"Europe\",\n",
    "    \"mt\" : \"Europe\",\n",
    "    \"ph\" : \"Asia\",\n",
    "    \"tw\" : \"Asia\",\n",
    "    \"jp\" : \"Asia\",\n",
    "    \"my\" : \"Asia\",\n",
    "    \"sg\" : \"Asia\",\n",
    "    \"id\" : \"Asia\",\n",
    "    \"hk\" : \"Asia\",\n",
    "    \"nz\" : \"Australia\",\n",
    "    \"au\" : \"Australia\",\n",
    "    \"global\" : \"Global\"   \n",
    "})"
   ]
  },
  {
   "cell_type": "code",
   "execution_count": 21,
   "metadata": {},
   "outputs": [
    {
     "data": {
      "text/plain": [
       "Europe           26739\n",
       "South America    15738\n",
       "Asia              5605\n",
       "North America     5577\n",
       "Australia         4256\n",
       "Global            2079\n",
       "Name: Continent, dtype: int64"
      ]
     },
     "execution_count": 21,
     "metadata": {},
     "output_type": "execute_result"
    }
   ],
   "source": [
    "drake_top5[\"Continent\"].value_counts()"
   ]
  },
  {
   "cell_type": "code",
   "execution_count": 22,
   "metadata": {},
   "outputs": [
    {
     "data": {
      "text/plain": [
       "<matplotlib.axes._subplots.AxesSubplot at 0x121a9a1d0>"
      ]
     },
     "execution_count": 22,
     "metadata": {},
     "output_type": "execute_result"
    },
    {
     "data": {
      "image/png": "[encoded data removed]",
      "text/plain": [
       "<Figure size 432x288 with 1 Axes>"
      ]
     },
     "metadata": {
      "needs_background": "light"
     },
     "output_type": "display_data"
    }
   ],
   "source": [
    "drake_top5_song_counts = pd.crosstab(drake_top5[\"Track Name\"], drake_top5[\"Continent\"])\n",
    "drake_top5_song_counts_marginal = drake_top5_song_counts.sum(axis=1)\n",
    "region_given_song = drake_top5_song_counts.divide(drake_top5_song_counts_marginal, axis=0)\n",
    "region_given_song.plot.bar(stacked=True)"
   ]
  },
  {
   "cell_type": "code",
   "execution_count": 23,
   "metadata": {},
   "outputs": [],
   "source": [
    "drake_top5_only_countries = drake_top5[drake_top5.Region != \"global\"]"
   ]
  },
  {
   "cell_type": "code",
   "execution_count": 24,
   "metadata": {},
   "outputs": [
    {
     "data": {
      "text/html": [
       "<div>\n",
       "<style scoped>\n",
       "    .dataframe tbody tr th:only-of-type {\n",
       "        vertical-align: middle;\n",
       "    }\n",
       "\n",
       "    .dataframe tbody tr th {\n",
       "        vertical-align: top;\n",
       "    }\n",
       "\n",
       "    .dataframe thead th {\n",
       "        text-align: right;\n",
       "    }\n",
       "</style>\n",
       "<table border=\"1\" class=\"dataframe\">\n",
       "  <thead>\n",
       "    <tr style=\"text-align: right;\">\n",
       "      <th></th>\n",
       "      <th>Unnamed: 0</th>\n",
       "      <th>Position</th>\n",
       "      <th>Track Name</th>\n",
       "      <th>Artist</th>\n",
       "      <th>Streams</th>\n",
       "      <th>URL</th>\n",
       "      <th>Date</th>\n",
       "      <th>Region</th>\n",
       "      <th>uri_x</th>\n",
       "      <th>acousticness</th>\n",
       "      <th>...</th>\n",
       "      <th>loudness</th>\n",
       "      <th>mode</th>\n",
       "      <th>speechiness</th>\n",
       "      <th>tempo</th>\n",
       "      <th>time_signature</th>\n",
       "      <th>track_href</th>\n",
       "      <th>type</th>\n",
       "      <th>uri_y</th>\n",
       "      <th>valence</th>\n",
       "      <th>Continent</th>\n",
       "    </tr>\n",
       "  </thead>\n",
       "  <tbody>\n",
       "    <tr>\n",
       "      <th>16</th>\n",
       "      <td>16</td>\n",
       "      <td>17</td>\n",
       "      <td>One Dance</td>\n",
       "      <td>Drake</td>\n",
       "      <td>7472</td>\n",
       "      <td>https://open.spotify.com/track/1xznGGDReH1oQq0...</td>\n",
       "      <td>2017-01-01</td>\n",
       "      <td>ec</td>\n",
       "      <td>1xznGGDReH1oQq0xzbwXa3</td>\n",
       "      <td>0.00784</td>\n",
       "      <td>...</td>\n",
       "      <td>-5.886</td>\n",
       "      <td>1.0</td>\n",
       "      <td>0.0532</td>\n",
       "      <td>103.989</td>\n",
       "      <td>4.0</td>\n",
       "      <td>https://api.spotify.com/v1/tracks/1xznGGDReH1o...</td>\n",
       "      <td>audio_features</td>\n",
       "      <td>spotify:track:1xznGGDReH1oQq0xzbwXa3</td>\n",
       "      <td>0.371</td>\n",
       "      <td>South America</td>\n",
       "    </tr>\n",
       "    <tr>\n",
       "      <th>213</th>\n",
       "      <td>213</td>\n",
       "      <td>14</td>\n",
       "      <td>One Dance</td>\n",
       "      <td>Drake</td>\n",
       "      <td>7437</td>\n",
       "      <td>https://open.spotify.com/track/1xznGGDReH1oQq0...</td>\n",
       "      <td>2017-01-02</td>\n",
       "      <td>ec</td>\n",
       "      <td>1xznGGDReH1oQq0xzbwXa3</td>\n",
       "      <td>0.00784</td>\n",
       "      <td>...</td>\n",
       "      <td>-5.886</td>\n",
       "      <td>1.0</td>\n",
       "      <td>0.0532</td>\n",
       "      <td>103.989</td>\n",
       "      <td>4.0</td>\n",
       "      <td>https://api.spotify.com/v1/tracks/1xznGGDReH1o...</td>\n",
       "      <td>audio_features</td>\n",
       "      <td>spotify:track:1xznGGDReH1oQq0xzbwXa3</td>\n",
       "      <td>0.371</td>\n",
       "      <td>South America</td>\n",
       "    </tr>\n",
       "    <tr>\n",
       "      <th>412</th>\n",
       "      <td>412</td>\n",
       "      <td>13</td>\n",
       "      <td>One Dance</td>\n",
       "      <td>Drake</td>\n",
       "      <td>8357</td>\n",
       "      <td>https://open.spotify.com/track/1xznGGDReH1oQq0...</td>\n",
       "      <td>2017-01-03</td>\n",
       "      <td>ec</td>\n",
       "      <td>1xznGGDReH1oQq0xzbwXa3</td>\n",
       "      <td>0.00784</td>\n",
       "      <td>...</td>\n",
       "      <td>-5.886</td>\n",
       "      <td>1.0</td>\n",
       "      <td>0.0532</td>\n",
       "      <td>103.989</td>\n",
       "      <td>4.0</td>\n",
       "      <td>https://api.spotify.com/v1/tracks/1xznGGDReH1o...</td>\n",
       "      <td>audio_features</td>\n",
       "      <td>spotify:track:1xznGGDReH1oQq0xzbwXa3</td>\n",
       "      <td>0.371</td>\n",
       "      <td>South America</td>\n",
       "    </tr>\n",
       "    <tr>\n",
       "      <th>614</th>\n",
       "      <td>614</td>\n",
       "      <td>15</td>\n",
       "      <td>One Dance</td>\n",
       "      <td>Drake</td>\n",
       "      <td>7901</td>\n",
       "      <td>https://open.spotify.com/track/1xznGGDReH1oQq0...</td>\n",
       "      <td>2017-01-04</td>\n",
       "      <td>ec</td>\n",
       "      <td>1xznGGDReH1oQq0xzbwXa3</td>\n",
       "      <td>0.00784</td>\n",
       "      <td>...</td>\n",
       "      <td>-5.886</td>\n",
       "      <td>1.0</td>\n",
       "      <td>0.0532</td>\n",
       "      <td>103.989</td>\n",
       "      <td>4.0</td>\n",
       "      <td>https://api.spotify.com/v1/tracks/1xznGGDReH1o...</td>\n",
       "      <td>audio_features</td>\n",
       "      <td>spotify:track:1xznGGDReH1oQq0xzbwXa3</td>\n",
       "      <td>0.371</td>\n",
       "      <td>South America</td>\n",
       "    </tr>\n",
       "    <tr>\n",
       "      <th>817</th>\n",
       "      <td>817</td>\n",
       "      <td>18</td>\n",
       "      <td>One Dance</td>\n",
       "      <td>Drake</td>\n",
       "      <td>7569</td>\n",
       "      <td>https://open.spotify.com/track/1xznGGDReH1oQq0...</td>\n",
       "      <td>2017-01-05</td>\n",
       "      <td>ec</td>\n",
       "      <td>1xznGGDReH1oQq0xzbwXa3</td>\n",
       "      <td>0.00784</td>\n",
       "      <td>...</td>\n",
       "      <td>-5.886</td>\n",
       "      <td>1.0</td>\n",
       "      <td>0.0532</td>\n",
       "      <td>103.989</td>\n",
       "      <td>4.0</td>\n",
       "      <td>https://api.spotify.com/v1/tracks/1xznGGDReH1o...</td>\n",
       "      <td>audio_features</td>\n",
       "      <td>spotify:track:1xznGGDReH1oQq0xzbwXa3</td>\n",
       "      <td>0.371</td>\n",
       "      <td>South America</td>\n",
       "    </tr>\n",
       "  </tbody>\n",
       "</table>\n",
       "<p>5 rows × 28 columns</p>\n",
       "</div>"
      ],
      "text/plain": [
       "     Unnamed: 0  Position Track Name Artist  Streams  \\\n",
       "16           16        17  One Dance  Drake     7472   \n",
       "213         213        14  One Dance  Drake     7437   \n",
       "412         412        13  One Dance  Drake     8357   \n",
       "614         614        15  One Dance  Drake     7901   \n",
       "817         817        18  One Dance  Drake     7569   \n",
       "\n",
       "                                                   URL        Date Region  \\\n",
       "16   https://open.spotify.com/track/1xznGGDReH1oQq0...  2017-01-01     ec   \n",
       "213  https://open.spotify.com/track/1xznGGDReH1oQq0...  2017-01-02     ec   \n",
       "412  https://open.spotify.com/track/1xznGGDReH1oQq0...  2017-01-03     ec   \n",
       "614  https://open.spotify.com/track/1xznGGDReH1oQq0...  2017-01-04     ec   \n",
       "817  https://open.spotify.com/track/1xznGGDReH1oQq0...  2017-01-05     ec   \n",
       "\n",
       "                      uri_x  acousticness      ...       loudness  mode  \\\n",
       "16   1xznGGDReH1oQq0xzbwXa3       0.00784      ...         -5.886   1.0   \n",
       "213  1xznGGDReH1oQq0xzbwXa3       0.00784      ...         -5.886   1.0   \n",
       "412  1xznGGDReH1oQq0xzbwXa3       0.00784      ...         -5.886   1.0   \n",
       "614  1xznGGDReH1oQq0xzbwXa3       0.00784      ...         -5.886   1.0   \n",
       "817  1xznGGDReH1oQq0xzbwXa3       0.00784      ...         -5.886   1.0   \n",
       "\n",
       "     speechiness    tempo time_signature  \\\n",
       "16        0.0532  103.989            4.0   \n",
       "213       0.0532  103.989            4.0   \n",
       "412       0.0532  103.989            4.0   \n",
       "614       0.0532  103.989            4.0   \n",
       "817       0.0532  103.989            4.0   \n",
       "\n",
       "                                            track_href            type  \\\n",
       "16   https://api.spotify.com/v1/tracks/1xznGGDReH1o...  audio_features   \n",
       "213  https://api.spotify.com/v1/tracks/1xznGGDReH1o...  audio_features   \n",
       "412  https://api.spotify.com/v1/tracks/1xznGGDReH1o...  audio_features   \n",
       "614  https://api.spotify.com/v1/tracks/1xznGGDReH1o...  audio_features   \n",
       "817  https://api.spotify.com/v1/tracks/1xznGGDReH1o...  audio_features   \n",
       "\n",
       "                                    uri_y  valence      Continent  \n",
       "16   spotify:track:1xznGGDReH1oQq0xzbwXa3    0.371  South America  \n",
       "213  spotify:track:1xznGGDReH1oQq0xzbwXa3    0.371  South America  \n",
       "412  spotify:track:1xznGGDReH1oQq0xzbwXa3    0.371  South America  \n",
       "614  spotify:track:1xznGGDReH1oQq0xzbwXa3    0.371  South America  \n",
       "817  spotify:track:1xznGGDReH1oQq0xzbwXa3    0.371  South America  \n",
       "\n",
       "[5 rows x 28 columns]"
      ]
     },
     "execution_count": 24,
     "metadata": {},
     "output_type": "execute_result"
    }
   ],
   "source": [
    "drake_top5_only_countries.head()"
   ]
  },
  {
   "cell_type": "code",
   "execution_count": 25,
   "metadata": {},
   "outputs": [
    {
     "data": {
      "text/plain": [
       "<matplotlib.axes._subplots.AxesSubplot at 0x1211e89b0>"
      ]
     },
     "execution_count": 25,
     "metadata": {},
     "output_type": "execute_result"
    },
    {
     "data": {
      "image/png": "[encoded data removed]",
      "text/plain": [
       "<Figure size 432x288 with 1 Axes>"
      ]
     },
     "metadata": {
      "needs_background": "light"
     },
     "output_type": "display_data"
    }
   ],
   "source": [
    "drake_top5_only_countries.pivot_table(\n",
    "    index=\"Track Name\", columns=\"Continent\",\n",
    "    values=\"Streams\", aggfunc=np.mean\n",
    ").plot.bar()"
   ]
  },
  {
   "cell_type": "code",
   "execution_count": 26,
   "metadata": {},
   "outputs": [
    {
     "data": {
      "text/plain": [
       "<matplotlib.axes._subplots.AxesSubplot at 0x121a7d8d0>"
      ]
     },
     "execution_count": 26,
     "metadata": {},
     "output_type": "execute_result"
    },
    {
     "data": {
      "image/png": "[encoded data removed]",
      "text/plain": [
       "<Figure size 432x288 with 1 Axes>"
      ]
     },
     "metadata": {
      "needs_background": "light"
     },
     "output_type": "display_data"
    }
   ],
   "source": [
    "thotiana_us.groupby([\"Date\"])[\"Streams\"].mean().plot.line(legend=True, label=\"US\")"
   ]
  },
  {
   "cell_type": "code",
   "execution_count": 27,
   "metadata": {},
   "outputs": [
    {
     "data": {
      "text/plain": [
       "Artist\n",
       "Mahmood      371930.479167\n",
       "Jeezy        353941.000000\n",
       "Calboy       337937.000000\n",
       "Cooliecut    333504.000000\n",
       "DJ A1        321705.703704\n",
       "Name: Streams, dtype: float64"
      ]
     },
     "execution_count": 27,
     "metadata": {},
     "output_type": "execute_result"
    }
   ],
   "source": [
    "most_mean_streams = spot.groupby([\"Artist\"])[\"Streams\"].mean().sort_values(ascending=False)[0:5]\n",
    "most_mean_streams"
   ]
  },
  {
   "cell_type": "code",
   "execution_count": 28,
   "metadata": {},
   "outputs": [
    {
     "data": {
      "text/plain": [
       "Ed Sheeran          208099\n",
       "Post Malone         124417\n",
       "Drake               111864\n",
       "The Chainsmokers    108978\n",
       "Ozuna               108040\n",
       "Name: Artist, dtype: int64"
      ]
     },
     "execution_count": 28,
     "metadata": {},
     "output_type": "execute_result"
    }
   ],
   "source": [
    "most_appearances = spot.Artist.value_counts()[0:5]\n",
    "most_appearances"
   ]
  },
  {
   "cell_type": "code",
   "execution_count": 29,
   "metadata": {},
   "outputs": [
    {
     "data": {
      "image/png": "[encoded data removed]",
      "text/plain": [
       "<Figure size 432x288 with 1 Axes>"
      ]
     },
     "metadata": {
      "needs_background": "light"
     },
     "output_type": "display_data"
    }
   ],
   "source": [
    "for artist in [\"Mahmood\", \"Jeezy\", \"Calboy\", \"Cooliecut\", \"DJ A1\"]:\n",
    "    df = spot[spot.Artist == artist]\n",
    "    df.groupby([\"Date\"])[\"Streams\"].mean().plot.line(label=artist, legend=True)"
   ]
  },
  {
   "cell_type": "code",
   "execution_count": 30,
   "metadata": {},
   "outputs": [
    {
     "data": {
      "image/png": "[encoded data removed]",
      "text/plain": [
       "<Figure size 432x288 with 1 Axes>"
      ]
     },
     "metadata": {
      "needs_background": "light"
     },
     "output_type": "display_data"
    }
   ],
   "source": [
    "for artist in [\"Ed Sheeran\", \"Post Malone\", \"Drake\", \"The Chainsmokers\", \"Ozuna\"]:\n",
    "    df = spot[spot.Artist == artist]\n",
    "    df.groupby([\"Date\"])[\"Streams\"].mean().plot.line(label=artist, legend=True)"
   ]
  },
  {
   "cell_type": "code",
   "execution_count": null,
   "metadata": {},
   "outputs": [],
   "source": []
  },
  {
   "cell_type": "code",
   "execution_count": null,
   "metadata": {},
   "outputs": [],
   "source": []
  },
  {
   "cell_type": "code",
   "execution_count": null,
   "metadata": {},
   "outputs": [],
   "source": []
  },
  {
   "cell_type": "code",
   "execution_count": null,
   "metadata": {},
   "outputs": [],
   "source": []
  }
 ],
 "metadata": {
  "kernelspec": {
   "display_name": "Python 3",
   "language": "python",
   "name": "python3"
  },
  "language_info": {
   "codemirror_mode": {
    "name": "ipython",
    "version": 3
   },
   "file_extension": ".py",
   "mimetype": "text/x-python",
   "name": "python",
   "nbconvert_exporter": "python",
   "pygments_lexer": "ipython3",
   "version": "3.7.1"
  }
 },
 "nbformat": 4,
 "nbformat_minor": 2
}
