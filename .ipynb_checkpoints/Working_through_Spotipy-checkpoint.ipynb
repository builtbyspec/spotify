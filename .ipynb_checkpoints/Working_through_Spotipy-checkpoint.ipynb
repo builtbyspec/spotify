{
 "cells": [
  {
   "cell_type": "code",
   "execution_count": 2,
   "metadata": {},
   "outputs": [],
   "source": [
    "import spotipy\n",
    "import spotipy.util as util\n",
    "import requests\n",
    "\n",
    "scope = 'user-library-read'\n",
    "redirect_uri = 'http://localhost:9999'"
   ]
  },
  {
   "cell_type": "markdown",
   "metadata": {},
   "source": [
    "Documentation: https://developer.spotify.com/documentation/web-api/\n",
    "\n",
    "To install type \"__pip3 install spotipy__\" into your terminal\n",
    "\n",
    "<img src=\"parameters.png\">"
   ]
  },
  {
   "cell_type": "markdown",
   "metadata": {},
   "source": [
    "What I had to do to get this to work: (Message me or make your own, to make it easy just use mine for now)\n",
    "\n",
    "1.) Get a CLIENT ID and CLIENT SECRET (https://developer.spotify.com/web-api/tutorial/)\n",
    "2.) According to the Client Credentials Flow, modify the example scripts in the following manner:\n",
    "\n",
    "Line 3: from spotipy.oauth2 import SpotifyClientCredentials\n",
    "Line 4: client_credentials_manager = SpotifyClientCredentials(client_id='YOUR ID', client_secret='YOUR SECRET ID')\n",
    "\n",
    "At the end of a script, modify the sp = spotipy.Spotify() to\n",
    "sp = spotipy.Spotify(client_credentials_manager=client_credentials_manager)\n",
    "\n",
    "Then it /should/ work.\n",
    "\n",
    "- https://github.com/plamere/spotipy/issues/194#issuecomment-315458391"
   ]
  },
  {
   "cell_type": "markdown",
   "metadata": {},
   "source": [
    "## Examples\n",
    "\n",
    "Here’s a quick example of using Spotipy to list the names of all the albums released by the artist ‘Birdy’:\n",
    "\n",
    "https://open.spotify.com/artist/2WX2uTcsvV5OnS0inACecP"
   ]
  },
  {
   "cell_type": "code",
   "execution_count": 3,
   "metadata": {},
   "outputs": [
    {
     "name": "stdout",
     "output_type": "stream",
     "text": [
      "Beautiful Lies\n",
      "Beautiful Lies\n",
      "Beautiful Lies (Deluxe)\n",
      "Beautiful Lies (Deluxe)\n",
      "Fire Within\n",
      "Fire Within\n",
      "Fire Within (Deluxe)\n",
      "Fire Within (Deluxe)\n",
      "Fire Within (Deluxe)\n",
      "Live In London\n",
      "Birdy\n",
      "Birdy\n",
      "Birdy (Spotify Exclusive)\n",
      "Birdy\n",
      "Birdy (Deluxe Version)\n"
     ]
    }
   ],
   "source": [
    "from spotipy.oauth2 import SpotifyClientCredentials\n",
    "\n",
    "client_id  = \"\"\n",
    "client_secret = \"\" #MESSAGE ANISH FOR IT\n",
    "\n",
    "client_credentials_manager = SpotifyClientCredentials(client_id,\n",
    "                                                      client_secret)\n",
    "token = client_credentials_manager.get_access_token()\n",
    "spotify = spotipy.Spotify(auth=token)\n",
    "#spotify = spotipy.Spotify(client_credentials_manager=client_credentials_manager)\n",
    "\n",
    "birdy_uri = 'spotify:artist:2WX2uTcsvV5OnS0inACecP'\n",
    "\n",
    "results = spotify.artist_albums(birdy_uri, album_type='album') # Stores in JSON I believe so as a dict\n",
    "albums = results['items']\n",
    "while results['next']:\n",
    "    results = spotify.next(results)\n",
    "    albums.extend(results['items'])\n",
    "\n",
    "for album in albums:\n",
    "    print(album['name'])"
   ]
  },
  {
   "cell_type": "markdown",
   "metadata": {},
   "source": [
    "Let's look at toro y moi's top 10 songs and get 30 second snippets of it\n",
    "\n",
    "https://open.spotify.com/artist/6O4EGCCb6DoIiR6B1QCQgp"
   ]
  },
  {
   "cell_type": "code",
   "execution_count": 3,
   "metadata": {},
   "outputs": [
    {
     "name": "stdout",
     "output_type": "stream",
     "text": [
      "track    : Monte Carlo (feat. WET)\n",
      "audio    : https://p.scdn.co/mp3-preview/daeabbee652d574ab65aa86baa452831146e48dd?cid=2d7e45f1d409409e91fbbe0444ec166d\n",
      "cover art: https://i.scdn.co/image/bc37539ee4ad2d9bc3fe51d96cbf443f0d44aece\n",
      "\n",
      "track    : Laws of the Universe\n",
      "audio    : https://p.scdn.co/mp3-preview/44b6a51f44e57508c4e48992fff753d8c00dfc69?cid=2d7e45f1d409409e91fbbe0444ec166d\n",
      "cover art: https://i.scdn.co/image/bc37539ee4ad2d9bc3fe51d96cbf443f0d44aece\n",
      "\n",
      "track    : Fading\n",
      "audio    : https://p.scdn.co/mp3-preview/7984d0b1a15097370ae839d6670f3a3a2d0e27c2?cid=2d7e45f1d409409e91fbbe0444ec166d\n",
      "cover art: https://i.scdn.co/image/bc37539ee4ad2d9bc3fe51d96cbf443f0d44aece\n",
      "\n",
      "track    : Ordinary Pleasure\n",
      "audio    : https://p.scdn.co/mp3-preview/73124eeeb7ffc8998b969bcc31f0ff22d0035a52?cid=2d7e45f1d409409e91fbbe0444ec166d\n",
      "cover art: https://i.scdn.co/image/bc37539ee4ad2d9bc3fe51d96cbf443f0d44aece\n",
      "\n",
      "track    : Girl Like You\n",
      "audio    : https://p.scdn.co/mp3-preview/fb61f7b2c9472a4e4ffad71363250f82b883a72e?cid=2d7e45f1d409409e91fbbe0444ec166d\n",
      "cover art: https://i.scdn.co/image/014ce47c95a7f07f6088ee6f0d2bc6ccf27ace1f\n",
      "\n",
      "track    : Freelance\n",
      "audio    : https://p.scdn.co/mp3-preview/42672da2c4016f4590f7a2b643270641f90a38ba?cid=2d7e45f1d409409e91fbbe0444ec166d\n",
      "cover art: https://i.scdn.co/image/bc37539ee4ad2d9bc3fe51d96cbf443f0d44aece\n",
      "\n",
      "track    : New House\n",
      "audio    : https://p.scdn.co/mp3-preview/a7f0c86dcc8f62dfd904dba78ea48f00298feb51?cid=2d7e45f1d409409e91fbbe0444ec166d\n",
      "cover art: https://i.scdn.co/image/bc37539ee4ad2d9bc3fe51d96cbf443f0d44aece\n",
      "\n",
      "track    : Baby Drive It Down\n",
      "audio    : https://p.scdn.co/mp3-preview/cd3c045869c939977d2137bb706cf05bdb62b7cc?cid=2d7e45f1d409409e91fbbe0444ec166d\n",
      "cover art: https://i.scdn.co/image/bc37539ee4ad2d9bc3fe51d96cbf443f0d44aece\n",
      "\n",
      "track    : Miss Me (feat. ABRA)\n",
      "audio    : https://p.scdn.co/mp3-preview/53afdd5bfde436e8e8ad6a3e97711b2c93e65d58?cid=2d7e45f1d409409e91fbbe0444ec166d\n",
      "cover art: https://i.scdn.co/image/bc37539ee4ad2d9bc3fe51d96cbf443f0d44aece\n",
      "\n",
      "track    : Omaha\n",
      "audio    : https://p.scdn.co/mp3-preview/bfa17ba9b54873a7b96a1ee6da43a3f3b82e0949?cid=2d7e45f1d409409e91fbbe0444ec166d\n",
      "cover art: https://i.scdn.co/image/1b20222f7c290c1a7c1cf7e3c1a3b1a8dfc96194\n",
      "\n"
     ]
    }
   ],
   "source": [
    "toroymoi = '6O4EGCCb6DoIiR6B1QCQgp'\n",
    "results = spotify.artist_top_tracks(toroymoi)\n",
    "for track in results['tracks'][:10]:\n",
    "    print('track    : ' + track['name'])\n",
    "    print('audio    : ' + track['preview_url'])\n",
    "    print('cover art: ' + track['album']['images'][0]['url'])\n",
    "    print()"
   ]
  },
  {
   "cell_type": "markdown",
   "metadata": {},
   "source": [
    "Let's look at my friend Ryan's public playlists"
   ]
  },
  {
   "cell_type": "code",
   "execution_count": 4,
   "metadata": {},
   "outputs": [
    {
     "name": "stdout",
     "output_type": "stream",
     "text": [
      "\n",
      "lets roll 🙄\n",
      "  total tracks 15\n",
      "   0                      Seven Lions Rush Over Me\n",
      "   1                         RL Grime I Wanna Know\n",
      "   2                          Slushii There x2\n",
      "   3                          SLANDER Superhuman (feat. Eric Leva)\n",
      "   4                    Martin Garrix Together\n",
      "   5                         ILLENIUM Crawl Outta Love\n",
      "   6                         San Holo Light\n",
      "   7                      Seven Lions Strangers\n",
      "   8                           ODESZA Falls (feat. Sasha Sloan)\n",
      "   9                          Gryffin Remember (with ZOHARA)\n",
      "   10                          Ghastly We Might Fall\n",
      "   11                         ILLENIUM Fractures\n",
      "   12                        Kidswaste Tonight\n",
      "   13                          Kaskade Us\n",
      "   14                    Martin Garrix Pizza\n",
      "\n",
      "🥵🤫\n",
      "  total tracks 6\n",
      "   0           A Boogie Wit da Hoodie Swervin (feat. 6ix9ine)\n",
      "   1                        Lil Mosey Burberry Headband\n",
      "   2                        Lil Mosey Yoppa (with BlocBoy JB)\n",
      "   3                        YNW Melly Mixed Personalities (feat. Kanye West)\n",
      "   4                        YNW Melly Murder On My Mind\n",
      "   5                         Lil Baby Drip Too Hard (Lil Baby & Gunna)\n",
      "\n",
      "ryNb\n",
      "  total tracks 15\n",
      "   0                         Jacquees You\n",
      "   1                       Jhene Aiko Never Call Me (feat. YG) - Remix\n",
      "   2                         Ella Mai Trip\n",
      "   3                            Mario Drowning\n",
      "   4                      Queen Naija Medicine\n",
      "   5                       Jhene Aiko Wasted Love Freestyle\n",
      "   6                       Tory Lanez I Sip\n",
      "   7                      Chris Brown Undecided\n",
      "   8                        C. Breezy Beat it Up\n",
      "   9                        C. Breezy Party Next Door\n",
      "   10                        C. Breezy Sex\n",
      "   11                          Kehlani Nights Like This (feat. Ty Dolla $ign)\n",
      "   12                      Pink Sweat$ Honesty\n",
      "   13                     Justine Skye Know Myself\n",
      "   14                       Tory Lanez LA Confidential\n",
      "\n",
      "6RNB9\n",
      "  total tracks 11\n",
      "   0                      Chris Brown No BS\n",
      "   1                       Trey Songz Neighbors Know My Name\n",
      "   2                    August Alsina Porn Star\n",
      "   3                       J. Holiday Bed\n",
      "   4                    August Alsina Kissin' On My Tattoos\n",
      "   5                     Robin Thicke Sex Therapy\n",
      "   6                      Chris Brown Sweet Love\n",
      "   7                             Wale The Body (feat. Jeremih)\n",
      "   8                          Omarion Sexplaylist\n",
      "   9                    Ty Dolla $ign Or Nah (feat. The Weeknd, Wiz Khalifa and DJ Mustard) - Remix\n",
      "   10                           Miguel Pussy is Mine\n",
      "\n",
      "In the AM\n",
      "  total tracks 26\n",
      "   0                     XXXTENTACION Jocelyn Flores\n",
      "   1                       Jhene Aiko While We're Young\n",
      "   2                    PARTYNEXTDOOR Peace Of Mind\n",
      "   3                      Frank Ocean Chanel\n",
      "   4                       The Weeknd True Colors\n",
      "   5                            Drake From Time\n",
      "   6                            Drake Shot For Me\n",
      "   7                            Drake Fire & Desire\n",
      "   8                       The Weeknd Die For You\n",
      "   9                    Bryson Tiller Right My Wrongs\n",
      "   10                            Drake Teenage Fever\n",
      "   11                     XXXTENTACION Fuck Love (feat. Trippie Redd)\n",
      "   12                      Post Malone I Fall Apart\n",
      "   13                    PARTYNEXTDOOR Freak In You\n",
      "   14                             Russ Psycho, Pt. 2\n",
      "   15                        Roy Woods Drama (feat. Drake)\n",
      "   16                      Alina Baraz Floating (feat. Khalid)\n",
      "   17                       The Weeknd Privilege\n",
      "   18                       Jamie Foxx Fall For Your Type\n",
      "   19                    August Alsina Wait\n",
      "   20               Tyler, The Creator See You Again\n",
      "   21                             dvsn Body Smile\n",
      "   22                       Jhene Aiko Never Call Me\n",
      "   23                             dvsn Do It Well\n",
      "   24                          Kehlani Escape\n",
      "   25                             ZAYN Entertainer\n"
     ]
    }
   ],
   "source": [
    "def show_tracks(tracks):\n",
    "    for i, item in enumerate(tracks['items']):\n",
    "        track = item['track']\n",
    "        print (\"   %d %32.32s %s\" % (i, track['artists'][0]['name'],\n",
    "            track['name']))\n",
    "\n",
    "\n",
    "if True:\n",
    "    username=\"1221583269\"\n",
    "    sp = spotipy.Spotify(client_credentials_manager=client_credentials_manager)\n",
    "    playlists = sp.user_playlists(username)\n",
    "    for playlist in playlists['items']:\n",
    "        if playlist['owner']['id'] == username:\n",
    "            print()\n",
    "            print(playlist['name'])\n",
    "            print('  total tracks', playlist['tracks']['total'])\n",
    "            results = sp.user_playlist(username, playlist['id'],\n",
    "                fields=\"tracks,next\")\n",
    "            tracks = results['tracks'] \n",
    "            show_tracks(tracks)\n",
    "            while tracks['next']:\n",
    "                tracks = sp.next(tracks)\n",
    "                show_tracks(tracks)\n"
   ]
  },
  {
   "cell_type": "markdown",
   "metadata": {},
   "source": [
    "Ignore for now\n",
    "\n",
    "token = util.prompt_for_user_token(\n",
    "        username=\"1255367183\",\n",
    "        scope=scope,\n",
    "        client_id=client_id,\n",
    "        client_secret=client_secret,\n",
    "        redirect_uri = \"http://localhost:9999\")\n",
    "        \n",
    "------------------------------------------------        "
   ]
  },
  {
   "cell_type": "markdown",
   "metadata": {},
   "source": [
    "## Look at your spotify data\n",
    "\n",
    "1. Go to spotify directory\n",
    "2. Go to authorization code\n",
    "3. Go to app.js and input Client Secret\n",
    "4. Save and exit and run \"node app.js\"\n",
    "5. open localhost:9999 on browser\n",
    "6. copy the authorization code from the url (it's long and makes sure to not copy the refresh code at end)\n",
    "7. input it for auth code and run the rest of the notebook.\n",
    "8. ctrl c running node app.js"
   ]
  },
  {
   "cell_type": "code",
   "execution_count": null,
   "metadata": {},
   "outputs": [],
   "source": [
    "auth_code = \"\"\n",
    "test = spotipy.Spotify(auth=auth_code)    \n",
    "results = test.current_user_saved_tracks()\n",
    "for item in results['items']:\n",
    "    track = item['track']\n",
    "    print (track['name'] + ' - ' + track['artists'][0]['name'])"
   ]
  },
  {
   "cell_type": "markdown",
   "metadata": {},
   "source": [
    "### IMPORTANT\n",
    "\n",
    "WHEN YOU ARE DONE DELETE THE CLIENT SECRET KEY FROM APP.JS AND JUPYTER. OUR REPOS ARE PUBLIC"
   ]
  }
 ],
 "metadata": {
  "kernelspec": {
   "display_name": "Python 3",
   "language": "python",
   "name": "python3"
  },
  "language_info": {
   "codemirror_mode": {
    "name": "ipython",
    "version": 3
   },
   "file_extension": ".py",
   "mimetype": "text/x-python",
   "name": "python",
   "nbconvert_exporter": "python",
   "pygments_lexer": "ipython3",
   "version": "3.6.6rc1"
  }
 },
 "nbformat": 4,
 "nbformat_minor": 2
}
